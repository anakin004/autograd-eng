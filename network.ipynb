{
  "cells": [
    {
      "cell_type": "code",
      "execution_count": 1,
      "metadata": {
        "id": "NkRyObaI4k_8"
      },
      "outputs": [],
      "source": [
        "import math\n",
        "import numpy as np\n",
        "import matplotlib.pyplot as plt\n",
        "%matplotlib inline"
      ]
    },
    {
      "cell_type": "code",
      "execution_count": 2,
      "metadata": {
        "id": "NeMDTrYE4lAE"
      },
      "outputs": [],
      "source": [
        "def f(xs):\n",
        "\n",
        "    if not isinstance(xs, np.ndarray):\n",
        "        return 3*math.sin(xs-2)\n",
        "\n",
        "    ys = []\n",
        "    for x in xs:\n",
        "        ys.append(3*math.sin(x-2))\n",
        "    return ys\n"
      ]
    },
    {
      "cell_type": "code",
      "execution_count": null,
      "metadata": {
        "id": "SUEnjKhM4lAG"
      },
      "outputs": [],
      "source": [
        "xs = np.arange(-5, 5, 0.25)\n",
        "ys = f(xs)"
      ]
    },
    {
      "cell_type": "code",
      "execution_count": null,
      "metadata": {
        "id": "0gym6AjF4lAG",
        "outputId": "14f79ce7-4bdb-4272-a5f7-c4a2e6e0937b"
      },
      "outputs": [
        {
          "data": {
            "text/plain": [
              "[<matplotlib.lines.Line2D at 0x17b08e83eb0>]"
            ]
          },
          "execution_count": 4,
          "metadata": {},
          "output_type": "execute_result"
        },
        {
          "data": {
            "image/png": "[encoded data removed]",
            "text/plain": [
              "<Figure size 640x480 with 1 Axes>"
            ]
          },
          "metadata": {},
          "output_type": "display_data"
        }
      ],
      "source": [
        "plt.plot(xs,ys)"
      ]
    },
    {
      "cell_type": "code",
      "execution_count": null,
      "metadata": {
        "id": "jJt2728S4lAJ",
        "outputId": "2789082b-74a4-44cd-b7de-75ac5ad9f8f0"
      },
      "outputs": [
        {
          "data": {
            "text/plain": [
              "0.8509864102279607"
            ]
          },
          "execution_count": 5,
          "metadata": {},
          "output_type": "execute_result"
        }
      ],
      "source": [
        "# some derivative visualization stuff\n",
        "h = 0.0000001\n",
        "x = -3.0\n",
        "(f(x + h) - f(x))/h"
      ]
    },
    {
      "cell_type": "code",
      "execution_count": null,
      "metadata": {
        "id": "A-73-qzT4lAK",
        "outputId": "ae4b59a5-9dae-40d3-a30b-439cedcb947c"
      },
      "outputs": [
        {
          "name": "stdout",
          "output_type": "stream",
          "text": [
            "4.0\n"
          ]
        }
      ],
      "source": [
        "a = 2.0\n",
        "b = -3.0\n",
        "c = 10.0\n",
        "d = a*b +c\n",
        "print(d)"
      ]
    },
    {
      "cell_type": "code",
      "execution_count": null,
      "metadata": {
        "id": "oB7TIsQ24lAK",
        "outputId": "be0456fd-7888-46f3-a62b-a345c7ec8fdd"
      },
      "outputs": [
        {
          "name": "stdout",
          "output_type": "stream",
          "text": [
            "d1 4.0\n",
            "d2 3.999699999999999\n",
            "slope -3.000000000010772\n"
          ]
        }
      ],
      "source": [
        "h = 0.0001\n",
        "\n",
        "a = 2.0\n",
        "b = -3.0\n",
        "c = 10.0\n",
        "\n",
        "d1 = a*b + c\n",
        "a += h\n",
        "d2 = a*b + c\n",
        "\n",
        "print('d1', d1)\n",
        "print('d2', d2)\n",
        "print('slope', (d2-d1)/h)"
      ]
    },
    {
      "cell_type": "code",
      "execution_count": 3,
      "metadata": {
        "id": "QPkJg6ns4lAL"
      },
      "outputs": [],
      "source": [
        "\n",
        "class Value:\n",
        "\n",
        "    def __init__(self,data, _children=(), _op='', label = ''):\n",
        "        self._backward = lambda: None\n",
        "        self.grad = 0.0\n",
        "        self.data = data\n",
        "        self._prev = set(_children)\n",
        "        self._op = _op\n",
        "        self.label = label\n",
        "\n",
        "    # repr used when we print object\n",
        "    def __repr__(self):\n",
        "        return f\"Value(data={self.data})\"\n",
        "\n",
        "    def __radd__(self, other):\n",
        "        return self + other\n",
        "\n",
        "    def __add__(self, other):\n",
        "\n",
        "        # if other is a constant then we wrap it in Value obj\n",
        "        other = other if isinstance(other, Value) else Value(other)\n",
        "\n",
        "        out = Value(self.data + other.data, (self,other), '+')\n",
        "\n",
        "        def _backward():\n",
        "            self.grad += 1.0 * out.grad\n",
        "            other.grad += 1.0 * out.grad\n",
        "\n",
        "        out._backward = _backward\n",
        "\n",
        "        return out\n",
        "\n",
        "    def __sub__(self, other):\n",
        "        return self + (-other)\n",
        "\n",
        "    # wrapper for negation, we can simply avoid having to write\n",
        "    # script for sub by using what we already have\n",
        "    def __neg__(self):\n",
        "        return self * -1\n",
        "\n",
        "    def __mul__(self, other):\n",
        "\n",
        "        # if other is constant we wrap it\n",
        "        other = other if isinstance(other, Value) else Value(other)\n",
        "\n",
        "        out = Value(self.data * other.data, (self,other), '*')\n",
        "\n",
        "        def _backward():\n",
        "            self.grad += other.data * out.grad\n",
        "            other.grad += self.data * out.grad\n",
        "\n",
        "        out._backward = _backward\n",
        "        return out\n",
        "\n",
        "    # python will try to default if __mul__ does not work\n",
        "    def __rmul__(self, other): # other * self, case if we have 2 * Val obj\n",
        "        return self * other\n",
        "\n",
        "\n",
        "    def __truediv__(self, other): # divide\n",
        "        return self * other**-1\n",
        "\n",
        "    def __pow__(self, other):\n",
        "        assert isinstance(other, (int, float)), \"only supports int/float powers\"\n",
        "        out = Value(self.data**other, (self, ), f'**{other}')\n",
        "\n",
        "        def _backward():\n",
        "            self.grad += other * ( self.data ** (other-1) ) * out.grad\n",
        "\n",
        "        out._backward = _backward\n",
        "\n",
        "        return out\n",
        "\n",
        "    def exp(self):\n",
        "        x = self.data\n",
        "        out = Value(math.exp(x), (self, ), 'exp')\n",
        "\n",
        "        def _backward():\n",
        "            self.grad += out.data * out.grad\n",
        "\n",
        "        out._backward = _backward\n",
        "\n",
        "        return out\n",
        "\n",
        "    def tanh(self):\n",
        "        x = self.data\n",
        "        t = (math.exp(2*x) - 1)/(math.exp(2*x) + 1)\n",
        "        out = Value(t, (self, ), 'tanh')\n",
        "\n",
        "        def _backward():\n",
        "            self.grad += (1 - t**2) * out.grad\n",
        "\n",
        "        out._backward = _backward\n",
        "        return out\n",
        "\n",
        "    def backward(self):\n",
        "\n",
        "        topo = []\n",
        "        visited = set()\n",
        "\n",
        "        #builing topological graph for backprop,\n",
        "        #we only append the parent node until all children are processed\n",
        "        #this allows us to visit all nodes sequentially in reverse\n",
        "        def build_topo(v):\n",
        "            if v not in visited:\n",
        "                visited.add(v)\n",
        "                for child in v._prev:\n",
        "                    build_topo(child)\n",
        "                topo.append(v)\n",
        "\n",
        "        self.grad = 1.0\n",
        "        build_topo(self)\n",
        "\n",
        "\n",
        "        for node in reversed(topo):\n",
        "            node._backward()\n",
        "\n",
        "\n",
        "\n"
      ]
    },
    {
      "cell_type": "code",
      "execution_count": 5,
      "metadata": {
        "colab": {
          "base_uri": "https://localhost:8080/"
        },
        "id": "iGwzNICo4lAO",
        "outputId": "6e2c99e3-8d90-4fbc-af6c-9b7e7a3e0115"
      },
      "outputs": [
        {
          "output_type": "execute_result",
          "data": {
            "text/plain": [
              "Value(data=-2.0)"
            ]
          },
          "metadata": {},
          "execution_count": 5
        }
      ],
      "source": [
        "a = Value(2.0)\n",
        "b = Value(4.0)\n",
        "a/b\n",
        "#a * (1/b)\n",
        "#a * (b**-1)\n",
        "a-b\n"
      ]
    },
    {
      "cell_type": "code",
      "execution_count": 6,
      "metadata": {
        "colab": {
          "base_uri": "https://localhost:8080/"
        },
        "id": "2FmWnK304lAP",
        "outputId": "7591fb3b-0974-47b4-8ea3-bda39c77bc16"
      },
      "outputs": [
        {
          "output_type": "execute_result",
          "data": {
            "text/plain": [
              "Value(data=-8.0)"
            ]
          },
          "metadata": {},
          "execution_count": 6
        }
      ],
      "source": [
        "a = Value(2.0, label='a')\n",
        "b = Value(-3.0, label='b')\n",
        "c = Value(10.0, label='c')\n",
        "e = a*b; e.label = 'e'\n",
        "d = e+c; d.label = 'd'\n",
        "f = Value(-2.0, label = 'f')\n",
        "L = d*f ; L.label = 'L'\n",
        "L"
      ]
    },
    {
      "cell_type": "code",
      "execution_count": 7,
      "metadata": {
        "id": "pYMq88e_4lAR"
      },
      "outputs": [],
      "source": [
        "from graphviz import Digraph\n",
        "\n",
        "def trace(root):\n",
        "  # builds a set of all nodes and edges in a graph\n",
        "  nodes, edges = set(), set()\n",
        "  def build(v):\n",
        "    if v not in nodes:\n",
        "      nodes.add(v)\n",
        "      for child in v._prev:\n",
        "        edges.add((child, v))\n",
        "        build(child)\n",
        "  build(root)\n",
        "  return nodes, edges\n",
        "\n",
        "def draw_dot(root):\n",
        "  dot = Digraph(format='svg', graph_attr={'rankdir': 'LR'}) # LR = left to right\n",
        "\n",
        "  nodes, edges = trace(root)\n",
        "  for n in nodes:\n",
        "    uid = str(id(n))\n",
        "    # for any value in the graph, create a rectangular ('record') node for it\n",
        "    dot.node(name = uid, label = \"{ %s | data %.4f | grad %.4f }\" % (n.label, n.data, n.grad), shape='record')\n",
        "    if n._op:\n",
        "      # if this value is a result of some operation, create an op node for it\n",
        "      dot.node(name = uid + n._op, label = n._op)\n",
        "      # and connect this node to it\n",
        "      dot.edge(uid + n._op, uid)\n",
        "\n",
        "  for n1, n2 in edges:\n",
        "    # connect n1 to the op node of n2\n",
        "    dot.edge(str(id(n1)), str(id(n2)) + n2._op)\n",
        "\n",
        "  return dot"
      ]
    },
    {
      "cell_type": "code",
      "execution_count": 8,
      "metadata": {
        "colab": {
          "base_uri": "https://localhost:8080/",
          "height": 212
        },
        "id": "EqmBiLkL4lAS",
        "outputId": "2c70fe56-9b37-4b23-a444-031797818a23"
      },
      "outputs": [
        {
          "output_type": "execute_result",
          "data": {
            "image/svg+xml": "<?xml version=\"1.0\" encoding=\"UTF-8\" standalone=\"no\"?>\n<!DOCTYPE svg PUBLIC \"-//W3C//DTD SVG 1.1//EN\"\n \"http://www.w3.org/Graphics/SVG/1.1/DTD/svg11.dtd\">\n<!-- Generated by graphviz version 2.43.0 (0)\n -->\n<!-- Title: %3 Pages: 1 -->\n<svg width=\"1148pt\" height=\"128pt\"\n viewBox=\"0.00 0.00 1148.00 128.00\" xmlns=\"http://www.w3.org/2000/svg\" xmlns:xlink=\"http://www.w3.org/1999/xlink\">\n<g id=\"graph0\" class=\"graph\" transform=\"scale(1 1) rotate(0) translate(4 124)\">\n<title>%3</title>\n<polygon fill=\"white\" stroke=\"transparent\" points=\"-4,4 -4,-124 1144,-124 1144,4 -4,4\"/>\n<!-- 138194228960272 -->\n<g id=\"node1\" class=\"node\">\n<title>138194228960272</title>\n<polygon fill=\"none\" stroke=\"black\" points=\"316,-83.5 316,-119.5 508,-119.5 508,-83.5 316,-83.5\"/>\n<text text-anchor=\"middle\" x=\"327.5\" y=\"-97.8\" font-family=\"Times,serif\" font-size=\"14.00\">c</text>\n<polyline fill=\"none\" stroke=\"black\" points=\"339,-83.5 339,-119.5 \"/>\n<text text-anchor=\"middle\" x=\"382.5\" y=\"-97.8\" font-family=\"Times,serif\" font-size=\"14.00\">data 10.0000</text>\n<polyline fill=\"none\" stroke=\"black\" points=\"426,-83.5 426,-119.5 \"/>\n<text text-anchor=\"middle\" x=\"467\" y=\"-97.8\" font-family=\"Times,serif\" font-size=\"14.00\">grad 0.0000</text>\n</g>\n<!-- 138194228961104+ -->\n<g id=\"node7\" class=\"node\">\n<title>138194228961104+</title>\n<ellipse fill=\"none\" stroke=\"black\" cx=\"571\" cy=\"-73.5\" rx=\"27\" ry=\"18\"/>\n<text text-anchor=\"middle\" x=\"571\" y=\"-69.8\" font-family=\"Times,serif\" font-size=\"14.00\">+</text>\n</g>\n<!-- 138194228960272&#45;&gt;138194228961104+ -->\n<g id=\"edge8\" class=\"edge\">\n<title>138194228960272&#45;&gt;138194228961104+</title>\n<path fill=\"none\" stroke=\"black\" d=\"M508.4,-84.49C517.69,-82.83 526.64,-81.23 534.71,-79.79\"/>\n<polygon fill=\"black\" stroke=\"black\" points=\"535.53,-83.2 544.76,-78 534.31,-76.31 535.53,-83.2\"/>\n</g>\n<!-- 138194228960912 -->\n<g id=\"node2\" class=\"node\">\n<title>138194228960912</title>\n<polygon fill=\"none\" stroke=\"black\" points=\"634,-0.5 634,-36.5 822,-36.5 822,-0.5 634,-0.5\"/>\n<text text-anchor=\"middle\" x=\"644.5\" y=\"-14.8\" font-family=\"Times,serif\" font-size=\"14.00\">f</text>\n<polyline fill=\"none\" stroke=\"black\" points=\"655,-0.5 655,-36.5 \"/>\n<text text-anchor=\"middle\" x=\"697.5\" y=\"-14.8\" font-family=\"Times,serif\" font-size=\"14.00\">data &#45;2.0000</text>\n<polyline fill=\"none\" stroke=\"black\" points=\"740,-0.5 740,-36.5 \"/>\n<text text-anchor=\"middle\" x=\"781\" y=\"-14.8\" font-family=\"Times,serif\" font-size=\"14.00\">grad 0.0000</text>\n</g>\n<!-- 138194228961168* -->\n<g id=\"node10\" class=\"node\">\n<title>138194228961168*</title>\n<ellipse fill=\"none\" stroke=\"black\" cx=\"885\" cy=\"-45.5\" rx=\"27\" ry=\"18\"/>\n<text text-anchor=\"middle\" x=\"885\" y=\"-41.8\" font-family=\"Times,serif\" font-size=\"14.00\">*</text>\n</g>\n<!-- 138194228960912&#45;&gt;138194228961168* -->\n<g id=\"edge9\" class=\"edge\">\n<title>138194228960912&#45;&gt;138194228961168*</title>\n<path fill=\"none\" stroke=\"black\" d=\"M822.29,-34.75C831.57,-36.37 840.52,-37.93 848.61,-39.33\"/>\n<polygon fill=\"black\" stroke=\"black\" points=\"848.22,-42.82 858.68,-41.09 849.42,-35.92 848.22,-42.82\"/>\n</g>\n<!-- 138194228960144 -->\n<g id=\"node3\" class=\"node\">\n<title>138194228960144</title>\n<polygon fill=\"none\" stroke=\"black\" points=\"317,-28.5 317,-64.5 507,-64.5 507,-28.5 317,-28.5\"/>\n<text text-anchor=\"middle\" x=\"328.5\" y=\"-42.8\" font-family=\"Times,serif\" font-size=\"14.00\">e</text>\n<polyline fill=\"none\" stroke=\"black\" points=\"340,-28.5 340,-64.5 \"/>\n<text text-anchor=\"middle\" x=\"382.5\" y=\"-42.8\" font-family=\"Times,serif\" font-size=\"14.00\">data &#45;6.0000</text>\n<polyline fill=\"none\" stroke=\"black\" points=\"425,-28.5 425,-64.5 \"/>\n<text text-anchor=\"middle\" x=\"466\" y=\"-42.8\" font-family=\"Times,serif\" font-size=\"14.00\">grad 0.0000</text>\n</g>\n<!-- 138194228960144&#45;&gt;138194228961104+ -->\n<g id=\"edge7\" class=\"edge\">\n<title>138194228960144&#45;&gt;138194228961104+</title>\n<path fill=\"none\" stroke=\"black\" d=\"M507.05,-62.67C516.78,-64.35 526.18,-65.96 534.62,-67.42\"/>\n<polygon fill=\"black\" stroke=\"black\" points=\"534.3,-70.91 544.75,-69.16 535.49,-64.01 534.3,-70.91\"/>\n</g>\n<!-- 138194228960144* -->\n<g id=\"node4\" class=\"node\">\n<title>138194228960144*</title>\n<ellipse fill=\"none\" stroke=\"black\" cx=\"253\" cy=\"-46.5\" rx=\"27\" ry=\"18\"/>\n<text text-anchor=\"middle\" x=\"253\" y=\"-42.8\" font-family=\"Times,serif\" font-size=\"14.00\">*</text>\n</g>\n<!-- 138194228960144*&#45;&gt;138194228960144 -->\n<g id=\"edge1\" class=\"edge\">\n<title>138194228960144*&#45;&gt;138194228960144</title>\n<path fill=\"none\" stroke=\"black\" d=\"M280.28,-46.5C288.05,-46.5 297.08,-46.5 306.68,-46.5\"/>\n<polygon fill=\"black\" stroke=\"black\" points=\"306.88,-50 316.88,-46.5 306.88,-43 306.88,-50\"/>\n</g>\n<!-- 138194228960976 -->\n<g id=\"node5\" class=\"node\">\n<title>138194228960976</title>\n<polygon fill=\"none\" stroke=\"black\" points=\"0,-56.5 0,-92.5 190,-92.5 190,-56.5 0,-56.5\"/>\n<text text-anchor=\"middle\" x=\"11.5\" y=\"-70.8\" font-family=\"Times,serif\" font-size=\"14.00\">b</text>\n<polyline fill=\"none\" stroke=\"black\" points=\"23,-56.5 23,-92.5 \"/>\n<text text-anchor=\"middle\" x=\"65.5\" y=\"-70.8\" font-family=\"Times,serif\" font-size=\"14.00\">data &#45;3.0000</text>\n<polyline fill=\"none\" stroke=\"black\" points=\"108,-56.5 108,-92.5 \"/>\n<text text-anchor=\"middle\" x=\"149\" y=\"-70.8\" font-family=\"Times,serif\" font-size=\"14.00\">grad 0.0000</text>\n</g>\n<!-- 138194228960976&#45;&gt;138194228960144* -->\n<g id=\"edge5\" class=\"edge\">\n<title>138194228960976&#45;&gt;138194228960144*</title>\n<path fill=\"none\" stroke=\"black\" d=\"M190.34,-57.57C199.62,-55.9 208.58,-54.29 216.66,-52.84\"/>\n<polygon fill=\"black\" stroke=\"black\" points=\"217.49,-56.25 226.72,-51.04 216.26,-49.36 217.49,-56.25\"/>\n</g>\n<!-- 138194228961104 -->\n<g id=\"node6\" class=\"node\">\n<title>138194228961104</title>\n<polygon fill=\"none\" stroke=\"black\" points=\"635.5,-55.5 635.5,-91.5 820.5,-91.5 820.5,-55.5 635.5,-55.5\"/>\n<text text-anchor=\"middle\" x=\"647\" y=\"-69.8\" font-family=\"Times,serif\" font-size=\"14.00\">d</text>\n<polyline fill=\"none\" stroke=\"black\" points=\"658.5,-55.5 658.5,-91.5 \"/>\n<text text-anchor=\"middle\" x=\"698.5\" y=\"-69.8\" font-family=\"Times,serif\" font-size=\"14.00\">data 4.0000</text>\n<polyline fill=\"none\" stroke=\"black\" points=\"738.5,-55.5 738.5,-91.5 \"/>\n<text text-anchor=\"middle\" x=\"779.5\" y=\"-69.8\" font-family=\"Times,serif\" font-size=\"14.00\">grad 0.0000</text>\n</g>\n<!-- 138194228961104&#45;&gt;138194228961168* -->\n<g id=\"edge6\" class=\"edge\">\n<title>138194228961104&#45;&gt;138194228961168*</title>\n<path fill=\"none\" stroke=\"black\" d=\"M820.51,-56.97C830.48,-55.17 840.13,-53.42 848.77,-51.86\"/>\n<polygon fill=\"black\" stroke=\"black\" points=\"849.55,-55.28 858.77,-50.06 848.3,-48.39 849.55,-55.28\"/>\n</g>\n<!-- 138194228961104+&#45;&gt;138194228961104 -->\n<g id=\"edge2\" class=\"edge\">\n<title>138194228961104+&#45;&gt;138194228961104</title>\n<path fill=\"none\" stroke=\"black\" d=\"M598.29,-73.5C606.26,-73.5 615.54,-73.5 625.39,-73.5\"/>\n<polygon fill=\"black\" stroke=\"black\" points=\"625.41,-77 635.41,-73.5 625.41,-70 625.41,-77\"/>\n</g>\n<!-- 138194228960080 -->\n<g id=\"node8\" class=\"node\">\n<title>138194228960080</title>\n<polygon fill=\"none\" stroke=\"black\" points=\"2.5,-1.5 2.5,-37.5 187.5,-37.5 187.5,-1.5 2.5,-1.5\"/>\n<text text-anchor=\"middle\" x=\"14\" y=\"-15.8\" font-family=\"Times,serif\" font-size=\"14.00\">a</text>\n<polyline fill=\"none\" stroke=\"black\" points=\"25.5,-1.5 25.5,-37.5 \"/>\n<text text-anchor=\"middle\" x=\"65.5\" y=\"-15.8\" font-family=\"Times,serif\" font-size=\"14.00\">data 2.0000</text>\n<polyline fill=\"none\" stroke=\"black\" points=\"105.5,-1.5 105.5,-37.5 \"/>\n<text text-anchor=\"middle\" x=\"146.5\" y=\"-15.8\" font-family=\"Times,serif\" font-size=\"14.00\">grad 0.0000</text>\n</g>\n<!-- 138194228960080&#45;&gt;138194228960144* -->\n<g id=\"edge4\" class=\"edge\">\n<title>138194228960080&#45;&gt;138194228960144*</title>\n<path fill=\"none\" stroke=\"black\" d=\"M187.65,-35.36C197.94,-37.14 207.91,-38.87 216.81,-40.41\"/>\n<polygon fill=\"black\" stroke=\"black\" points=\"216.26,-43.87 226.71,-42.12 217.45,-36.97 216.26,-43.87\"/>\n</g>\n<!-- 138194228961168 -->\n<g id=\"node9\" class=\"node\">\n<title>138194228961168</title>\n<polygon fill=\"none\" stroke=\"black\" points=\"948,-27.5 948,-63.5 1140,-63.5 1140,-27.5 948,-27.5\"/>\n<text text-anchor=\"middle\" x=\"960.5\" y=\"-41.8\" font-family=\"Times,serif\" font-size=\"14.00\">L</text>\n<polyline fill=\"none\" stroke=\"black\" points=\"973,-27.5 973,-63.5 \"/>\n<text text-anchor=\"middle\" x=\"1015.5\" y=\"-41.8\" font-family=\"Times,serif\" font-size=\"14.00\">data &#45;8.0000</text>\n<polyline fill=\"none\" stroke=\"black\" points=\"1058,-27.5 1058,-63.5 \"/>\n<text text-anchor=\"middle\" x=\"1099\" y=\"-41.8\" font-family=\"Times,serif\" font-size=\"14.00\">grad 0.0000</text>\n</g>\n<!-- 138194228961168*&#45;&gt;138194228961168 -->\n<g id=\"edge3\" class=\"edge\">\n<title>138194228961168*&#45;&gt;138194228961168</title>\n<path fill=\"none\" stroke=\"black\" d=\"M912.28,-45.5C919.78,-45.5 928.44,-45.5 937.67,-45.5\"/>\n<polygon fill=\"black\" stroke=\"black\" points=\"937.87,-49 947.87,-45.5 937.87,-42 937.87,-49\"/>\n</g>\n</g>\n</svg>\n",
            "text/plain": [
              "<graphviz.graphs.Digraph at 0x7dafeb34cb10>"
            ]
          },
          "metadata": {},
          "execution_count": 8
        }
      ],
      "source": [
        "draw_dot(L)"
      ]
    },
    {
      "cell_type": "code",
      "execution_count": 9,
      "metadata": {
        "colab": {
          "base_uri": "https://localhost:8080/"
        },
        "id": "YF4vPHNo4lAS",
        "outputId": "6b28926b-7b22-4c11-ed15-8fe755113e8d"
      },
      "outputs": [
        {
          "output_type": "stream",
          "name": "stdout",
          "text": [
            "-8.0\n"
          ]
        }
      ],
      "source": [
        "a.data += 0.01 * a.grad\n",
        "b.data += 0.01 * b.grad\n",
        "c.data += 0.01 * c.grad\n",
        "f.data += 0.01 * f.grad\n",
        "\n",
        "e = a*b;\n",
        "d = e+c\n",
        "L = d*f\n",
        "\n",
        "print(L.data)"
      ]
    },
    {
      "cell_type": "code",
      "execution_count": 10,
      "metadata": {
        "id": "gRH9BdSb4lAT"
      },
      "outputs": [],
      "source": [
        "# want\n",
        "# dL / da\n",
        "# dL / db\n",
        "\n",
        "# e = a*b\n",
        "\n",
        "# dL/da = de/da dd/de dL/dd\n",
        "\n",
        "#  =  -3 * 1.0 * -2 = 6\n",
        "\n",
        "# dL/db  = 2.0 * 1.0 8 -2 = -4.0"
      ]
    },
    {
      "cell_type": "code",
      "execution_count": 11,
      "metadata": {
        "id": "5CZxwqyw4lAT"
      },
      "outputs": [],
      "source": [
        "a.grad = 6.0\n",
        "b.grad = -4.0"
      ]
    },
    {
      "cell_type": "code",
      "execution_count": 12,
      "metadata": {
        "id": "vqwm5NxZ4lAT"
      },
      "outputs": [],
      "source": [
        "# dL / dc\n",
        "# dL/ de\n",
        "# dd / dc = 1.0\n",
        "# dd/ de = 1.0\n",
        "\n",
        "# d = c + e\n",
        "\n",
        "#Want\n",
        "# dl / dc = dL / dd * dd / dc\n",
        "\n",
        "#Know\n",
        "#dL / dd\n",
        "#dd / dc = 1.0\n"
      ]
    },
    {
      "cell_type": "code",
      "execution_count": 13,
      "metadata": {
        "id": "vcQFOiet4lAU"
      },
      "outputs": [],
      "source": [
        "e.grad = -2.0\n",
        "c.grad = -2.0"
      ]
    },
    {
      "cell_type": "code",
      "execution_count": 14,
      "metadata": {
        "id": "EQndXJpy4lAU"
      },
      "outputs": [],
      "source": [
        "# L = d*f\n",
        "# dL/dd = f"
      ]
    },
    {
      "cell_type": "code",
      "execution_count": 15,
      "metadata": {
        "id": "theX1LIb4lAU"
      },
      "outputs": [],
      "source": [
        "f.grad = 4.0\n",
        "d.grad = -2.0"
      ]
    },
    {
      "cell_type": "code",
      "execution_count": 16,
      "metadata": {
        "id": "Lnu7zX4w4lAV"
      },
      "outputs": [],
      "source": [
        "# derivative of L with respect to L is 1\n",
        "L.grad = 1.0"
      ]
    },
    {
      "cell_type": "code",
      "execution_count": 17,
      "metadata": {
        "colab": {
          "base_uri": "https://localhost:8080/"
        },
        "id": "DrYXftrQ4lAV",
        "outputId": "7242bf52-4fdf-4ca0-c763-3920abeb73f4"
      },
      "outputs": [
        {
          "output_type": "stream",
          "name": "stdout",
          "text": [
            "-3.9999999999995595\n"
          ]
        }
      ],
      "source": [
        "# limt def of derivative\n",
        "def lol():\n",
        "\n",
        "    h = 0.001\n",
        "\n",
        "    a = Value(2.0, label='a')\n",
        "    b = Value(-3.0, label='b')\n",
        "    c = Value(10.0, label='c')\n",
        "    e = a*b; e.label = 'e'\n",
        "    d = e+c; d.label = 'd'\n",
        "    f = Value(-2.0, label = 'f')\n",
        "    L = d*f ; L.label = 'L'\n",
        "\n",
        "    L1 = L.data\n",
        "\n",
        "    a = Value(2.0, label='a')\n",
        "    b = Value(-3.0, label='b')\n",
        "    b.data += h\n",
        "    c = Value(10.0, label='c')\n",
        "    e = a*b; e.label = 'e'\n",
        "    d = e+c; d.label = 'd'\n",
        "    f = Value(-2.0, label = 'f')\n",
        "    L = d*f ; L.label = 'L'\n",
        "\n",
        "    L2 = L.data\n",
        "\n",
        "    print((L2-L1)/h)\n",
        "\n",
        "lol()"
      ]
    },
    {
      "cell_type": "code",
      "execution_count": 18,
      "metadata": {
        "colab": {
          "base_uri": "https://localhost:8080/",
          "height": 430
        },
        "id": "qTHbWjIa4lAW",
        "outputId": "6175ae31-d5dc-49a6-eabc-c9a43bf7ab17"
      },
      "outputs": [
        {
          "output_type": "display_data",
          "data": {
            "text/plain": [
              "<Figure size 640x480 with 1 Axes>"
            ],
            "image/png": "[encoded data removed]"
          },
          "metadata": {}
        }
      ],
      "source": [
        "plt.plot(np.arange(-5,5,0.2), np.tanh(np.arange(-5,5,0.2))); plt.grid()"
      ]
    },
    {
      "cell_type": "code",
      "execution_count": 43,
      "metadata": {
        "id": "zYmgtNd54lAW"
      },
      "outputs": [],
      "source": [
        "# inputs x1,x2\n",
        "x1 = Value(2.0, label='x1')\n",
        "x2 = Value(0.0, label='x2')\n",
        "# weights w1,w2\n",
        "w1 = Value(-3.0, label='w1')\n",
        "w2 = Value(1.0, label='w2')\n",
        "# bias of the neuron\n",
        "b = Value(6.8813735870195432, label='b')\n",
        "# x1*w1 + x2*w2 + b\n",
        "x1w1 = x1*w1; x1w1.label = 'x1*w1'\n",
        "x2w2 = x2*w2; x2w2.label = 'x2*w2'\n",
        "x1w1x2w2 = x1w1 + x2w2; x1w1x2w2.label = 'x1*w1 + x2*w2'\n",
        "n = x1w1x2w2 + b; n.label = 'n'\n",
        "o = n.tanh(); o.label = 'o'\n",
        "\n",
        "nodes = {x1, x2, w1, w2, b, x1w1, x2w2, x1w1x2w2, n, o}\n"
      ]
    },
    {
      "cell_type": "code",
      "execution_count": 44,
      "metadata": {
        "colab": {
          "base_uri": "https://localhost:8080/"
        },
        "id": "6sZ69Hn94lAW",
        "outputId": "47fdfbaf-ce03-403c-dc86-1df5ac5308ee"
      },
      "outputs": [
        {
          "output_type": "stream",
          "name": "stdout",
          "text": [
            "0.4999999999999999\n"
          ]
        }
      ],
      "source": [
        "# even thought I have a backprop function for automation\n",
        "# this is just for theoretrical / understanding backprop proccess\n",
        "\n",
        "\n",
        "n.grad = 1 - o.data**2\n",
        "\n",
        "x1w1x2w2.grad = 0.5\n",
        "b.grad = 0.5\n",
        "\n",
        "# when we have a plus the backprop gradient simply flows through the next node\n",
        "x1w1.grad = 0.5\n",
        "x2w2.grad = 0.5\n",
        "\n",
        "x2.grad = w2.data * x2w2.grad\n",
        "w2.grad = x2.data * x2w2.grad\n",
        "w1.grad = x1.data * x1w1.grad\n",
        "x1.grad = w1.data * x1w1.grad\n",
        "\n",
        "\n",
        "\n",
        "print(n.grad)\n",
        "\n",
        "# o = tanh(n)\n",
        "# do / dn = 1 - o**2\n",
        "\n",
        "o.grad = 1.0"
      ]
    },
    {
      "cell_type": "code",
      "source": [
        "draw_dot(o)"
      ],
      "metadata": {
        "colab": {
          "base_uri": "https://localhost:8080/",
          "height": 321
        },
        "id": "MOPGUWY15wR5",
        "outputId": "dad3b0b6-ac9d-427f-c1be-372589a72ab5"
      },
      "execution_count": 45,
      "outputs": [
        {
          "output_type": "execute_result",
          "data": {
            "image/svg+xml": "<?xml version=\"1.0\" encoding=\"UTF-8\" standalone=\"no\"?>\n<!DOCTYPE svg PUBLIC \"-//W3C//DTD SVG 1.1//EN\"\n \"http://www.w3.org/Graphics/SVG/1.1/DTD/svg11.dtd\">\n<!-- Generated by graphviz version 2.43.0 (0)\n -->\n<!-- Title: %3 Pages: 1 -->\n<svg width=\"1575pt\" height=\"210pt\"\n viewBox=\"0.00 0.00 1575.00 210.00\" xmlns=\"http://www.w3.org/2000/svg\" xmlns:xlink=\"http://www.w3.org/1999/xlink\">\n<g id=\"graph0\" class=\"graph\" transform=\"scale(1 1) rotate(0) translate(4 206)\">\n<title>%3</title>\n<polygon fill=\"white\" stroke=\"transparent\" points=\"-4,4 -4,-206 1571,-206 1571,4 -4,4\"/>\n<!-- 138193818290064 -->\n<g id=\"node1\" class=\"node\">\n<title>138193818290064</title>\n<polygon fill=\"none\" stroke=\"black\" points=\"0,-165.5 0,-201.5 200,-201.5 200,-165.5 0,-165.5\"/>\n<text text-anchor=\"middle\" x=\"16.5\" y=\"-179.8\" font-family=\"Times,serif\" font-size=\"14.00\">w1</text>\n<polyline fill=\"none\" stroke=\"black\" points=\"33,-165.5 33,-201.5 \"/>\n<text text-anchor=\"middle\" x=\"75.5\" y=\"-179.8\" font-family=\"Times,serif\" font-size=\"14.00\">data &#45;3.0000</text>\n<polyline fill=\"none\" stroke=\"black\" points=\"118,-165.5 118,-201.5 \"/>\n<text text-anchor=\"middle\" x=\"159\" y=\"-179.8\" font-family=\"Times,serif\" font-size=\"14.00\">grad 1.0000</text>\n</g>\n<!-- 138193818289872* -->\n<g id=\"node8\" class=\"node\">\n<title>138193818289872*</title>\n<ellipse fill=\"none\" stroke=\"black\" cx=\"263\" cy=\"-128.5\" rx=\"27\" ry=\"18\"/>\n<text text-anchor=\"middle\" x=\"263\" y=\"-124.8\" font-family=\"Times,serif\" font-size=\"14.00\">*</text>\n</g>\n<!-- 138193818290064&#45;&gt;138193818289872* -->\n<g id=\"edge8\" class=\"edge\">\n<title>138193818290064&#45;&gt;138193818289872*</title>\n<path fill=\"none\" stroke=\"black\" d=\"M172.53,-165.44C181.84,-162.67 191.2,-159.67 200,-156.5 210.53,-152.71 221.75,-147.9 231.72,-143.33\"/>\n<polygon fill=\"black\" stroke=\"black\" points=\"233.25,-146.48 240.82,-139.07 230.28,-140.14 233.25,-146.48\"/>\n</g>\n<!-- 138193818290576 -->\n<g id=\"node2\" class=\"node\">\n<title>138193818290576</title>\n<polygon fill=\"none\" stroke=\"black\" points=\"716,-27.5 716,-63.5 901,-63.5 901,-27.5 716,-27.5\"/>\n<text text-anchor=\"middle\" x=\"727.5\" y=\"-41.8\" font-family=\"Times,serif\" font-size=\"14.00\">b</text>\n<polyline fill=\"none\" stroke=\"black\" points=\"739,-27.5 739,-63.5 \"/>\n<text text-anchor=\"middle\" x=\"779\" y=\"-41.8\" font-family=\"Times,serif\" font-size=\"14.00\">data 6.8814</text>\n<polyline fill=\"none\" stroke=\"black\" points=\"819,-27.5 819,-63.5 \"/>\n<text text-anchor=\"middle\" x=\"860\" y=\"-41.8\" font-family=\"Times,serif\" font-size=\"14.00\">grad 0.5000</text>\n</g>\n<!-- 138193818289936+ -->\n<g id=\"node10\" class=\"node\">\n<title>138193818289936+</title>\n<ellipse fill=\"none\" stroke=\"black\" cx=\"1008\" cy=\"-72.5\" rx=\"27\" ry=\"18\"/>\n<text text-anchor=\"middle\" x=\"1008\" y=\"-68.8\" font-family=\"Times,serif\" font-size=\"14.00\">+</text>\n</g>\n<!-- 138193818290576&#45;&gt;138193818289936+ -->\n<g id=\"edge12\" class=\"edge\">\n<title>138193818290576&#45;&gt;138193818289936+</title>\n<path fill=\"none\" stroke=\"black\" d=\"M901.02,-58.01C926,-61.43 951.59,-64.93 971.37,-67.63\"/>\n<polygon fill=\"black\" stroke=\"black\" points=\"971.05,-71.12 981.43,-69.01 972,-64.18 971.05,-71.12\"/>\n</g>\n<!-- 138193818288208 -->\n<g id=\"node3\" class=\"node\">\n<title>138193818288208</title>\n<polygon fill=\"none\" stroke=\"black\" points=\"1382,-54.5 1382,-90.5 1567,-90.5 1567,-54.5 1382,-54.5\"/>\n<text text-anchor=\"middle\" x=\"1393.5\" y=\"-68.8\" font-family=\"Times,serif\" font-size=\"14.00\">o</text>\n<polyline fill=\"none\" stroke=\"black\" points=\"1405,-54.5 1405,-90.5 \"/>\n<text text-anchor=\"middle\" x=\"1445\" y=\"-68.8\" font-family=\"Times,serif\" font-size=\"14.00\">data 0.7071</text>\n<polyline fill=\"none\" stroke=\"black\" points=\"1485,-54.5 1485,-90.5 \"/>\n<text text-anchor=\"middle\" x=\"1526\" y=\"-68.8\" font-family=\"Times,serif\" font-size=\"14.00\">grad 1.0000</text>\n</g>\n<!-- 138193818288208tanh -->\n<g id=\"node4\" class=\"node\">\n<title>138193818288208tanh</title>\n<ellipse fill=\"none\" stroke=\"black\" cx=\"1319\" cy=\"-72.5\" rx=\"27\" ry=\"18\"/>\n<text text-anchor=\"middle\" x=\"1319\" y=\"-68.8\" font-family=\"Times,serif\" font-size=\"14.00\">tanh</text>\n</g>\n<!-- 138193818288208tanh&#45;&gt;138193818288208 -->\n<g id=\"edge1\" class=\"edge\">\n<title>138193818288208tanh&#45;&gt;138193818288208</title>\n<path fill=\"none\" stroke=\"black\" d=\"M1346.04,-72.5C1353.58,-72.5 1362.3,-72.5 1371.57,-72.5\"/>\n<polygon fill=\"black\" stroke=\"black\" points=\"1371.81,-76 1381.81,-72.5 1371.81,-69 1371.81,-76\"/>\n</g>\n<!-- 138193818288336 -->\n<g id=\"node5\" class=\"node\">\n<title>138193818288336</title>\n<polygon fill=\"none\" stroke=\"black\" points=\"328.5,-55.5 328.5,-91.5 543.5,-91.5 543.5,-55.5 328.5,-55.5\"/>\n<text text-anchor=\"middle\" x=\"355\" y=\"-69.8\" font-family=\"Times,serif\" font-size=\"14.00\">x2*w2</text>\n<polyline fill=\"none\" stroke=\"black\" points=\"381.5,-55.5 381.5,-91.5 \"/>\n<text text-anchor=\"middle\" x=\"421.5\" y=\"-69.8\" font-family=\"Times,serif\" font-size=\"14.00\">data 0.0000</text>\n<polyline fill=\"none\" stroke=\"black\" points=\"461.5,-55.5 461.5,-91.5 \"/>\n<text text-anchor=\"middle\" x=\"502.5\" y=\"-69.8\" font-family=\"Times,serif\" font-size=\"14.00\">grad 0.5000</text>\n</g>\n<!-- 138193818288528+ -->\n<g id=\"node13\" class=\"node\">\n<title>138193818288528+</title>\n<ellipse fill=\"none\" stroke=\"black\" cx=\"609\" cy=\"-100.5\" rx=\"27\" ry=\"18\"/>\n<text text-anchor=\"middle\" x=\"609\" y=\"-96.8\" font-family=\"Times,serif\" font-size=\"14.00\">+</text>\n</g>\n<!-- 138193818288336&#45;&gt;138193818288528+ -->\n<g id=\"edge11\" class=\"edge\">\n<title>138193818288336&#45;&gt;138193818288528+</title>\n<path fill=\"none\" stroke=\"black\" d=\"M543.84,-90.37C554.01,-91.98 563.76,-93.51 572.44,-94.89\"/>\n<polygon fill=\"black\" stroke=\"black\" points=\"572.05,-98.37 582.47,-96.47 573.14,-91.45 572.05,-98.37\"/>\n</g>\n<!-- 138193818288336* -->\n<g id=\"node6\" class=\"node\">\n<title>138193818288336*</title>\n<ellipse fill=\"none\" stroke=\"black\" cx=\"263\" cy=\"-73.5\" rx=\"27\" ry=\"18\"/>\n<text text-anchor=\"middle\" x=\"263\" y=\"-69.8\" font-family=\"Times,serif\" font-size=\"14.00\">*</text>\n</g>\n<!-- 138193818288336*&#45;&gt;138193818288336 -->\n<g id=\"edge2\" class=\"edge\">\n<title>138193818288336*&#45;&gt;138193818288336</title>\n<path fill=\"none\" stroke=\"black\" d=\"M290.34,-73.5C298.51,-73.5 308.08,-73.5 318.36,-73.5\"/>\n<polygon fill=\"black\" stroke=\"black\" points=\"318.39,-77 328.39,-73.5 318.39,-70 318.39,-77\"/>\n</g>\n<!-- 138193818289872 -->\n<g id=\"node7\" class=\"node\">\n<title>138193818289872</title>\n<polygon fill=\"none\" stroke=\"black\" points=\"326,-110.5 326,-146.5 546,-146.5 546,-110.5 326,-110.5\"/>\n<text text-anchor=\"middle\" x=\"352.5\" y=\"-124.8\" font-family=\"Times,serif\" font-size=\"14.00\">x1*w1</text>\n<polyline fill=\"none\" stroke=\"black\" points=\"379,-110.5 379,-146.5 \"/>\n<text text-anchor=\"middle\" x=\"421.5\" y=\"-124.8\" font-family=\"Times,serif\" font-size=\"14.00\">data &#45;6.0000</text>\n<polyline fill=\"none\" stroke=\"black\" points=\"464,-110.5 464,-146.5 \"/>\n<text text-anchor=\"middle\" x=\"505\" y=\"-124.8\" font-family=\"Times,serif\" font-size=\"14.00\">grad 0.5000</text>\n</g>\n<!-- 138193818289872&#45;&gt;138193818288528+ -->\n<g id=\"edge7\" class=\"edge\">\n<title>138193818289872&#45;&gt;138193818288528+</title>\n<path fill=\"none\" stroke=\"black\" d=\"M546.27,-110.61C555.64,-109.07 564.6,-107.61 572.65,-106.29\"/>\n<polygon fill=\"black\" stroke=\"black\" points=\"573.35,-109.72 582.65,-104.65 572.22,-102.81 573.35,-109.72\"/>\n</g>\n<!-- 138193818289872*&#45;&gt;138193818289872 -->\n<g id=\"edge3\" class=\"edge\">\n<title>138193818289872*&#45;&gt;138193818289872</title>\n<path fill=\"none\" stroke=\"black\" d=\"M290.34,-128.5C297.77,-128.5 306.37,-128.5 315.6,-128.5\"/>\n<polygon fill=\"black\" stroke=\"black\" points=\"315.84,-132 325.84,-128.5 315.84,-125 315.84,-132\"/>\n</g>\n<!-- 138193818289936 -->\n<g id=\"node9\" class=\"node\">\n<title>138193818289936</title>\n<polygon fill=\"none\" stroke=\"black\" points=\"1071,-54.5 1071,-90.5 1256,-90.5 1256,-54.5 1071,-54.5\"/>\n<text text-anchor=\"middle\" x=\"1082.5\" y=\"-68.8\" font-family=\"Times,serif\" font-size=\"14.00\">n</text>\n<polyline fill=\"none\" stroke=\"black\" points=\"1094,-54.5 1094,-90.5 \"/>\n<text text-anchor=\"middle\" x=\"1134\" y=\"-68.8\" font-family=\"Times,serif\" font-size=\"14.00\">data 0.8814</text>\n<polyline fill=\"none\" stroke=\"black\" points=\"1174,-54.5 1174,-90.5 \"/>\n<text text-anchor=\"middle\" x=\"1215\" y=\"-68.8\" font-family=\"Times,serif\" font-size=\"14.00\">grad 0.5000</text>\n</g>\n<!-- 138193818289936&#45;&gt;138193818288208tanh -->\n<g id=\"edge14\" class=\"edge\">\n<title>138193818289936&#45;&gt;138193818288208tanh</title>\n<path fill=\"none\" stroke=\"black\" d=\"M1256.01,-72.5C1265.01,-72.5 1273.74,-72.5 1281.66,-72.5\"/>\n<polygon fill=\"black\" stroke=\"black\" points=\"1281.91,-76 1291.91,-72.5 1281.91,-69 1281.91,-76\"/>\n</g>\n<!-- 138193818289936+&#45;&gt;138193818289936 -->\n<g id=\"edge4\" class=\"edge\">\n<title>138193818289936+&#45;&gt;138193818289936</title>\n<path fill=\"none\" stroke=\"black\" d=\"M1035.04,-72.5C1042.58,-72.5 1051.3,-72.5 1060.57,-72.5\"/>\n<polygon fill=\"black\" stroke=\"black\" points=\"1060.81,-76 1070.81,-72.5 1060.81,-69 1060.81,-76\"/>\n</g>\n<!-- 138193818290128 -->\n<g id=\"node11\" class=\"node\">\n<title>138193818290128</title>\n<polygon fill=\"none\" stroke=\"black\" points=\"2.5,-55.5 2.5,-91.5 197.5,-91.5 197.5,-55.5 2.5,-55.5\"/>\n<text text-anchor=\"middle\" x=\"19\" y=\"-69.8\" font-family=\"Times,serif\" font-size=\"14.00\">w2</text>\n<polyline fill=\"none\" stroke=\"black\" points=\"35.5,-55.5 35.5,-91.5 \"/>\n<text text-anchor=\"middle\" x=\"75.5\" y=\"-69.8\" font-family=\"Times,serif\" font-size=\"14.00\">data 1.0000</text>\n<polyline fill=\"none\" stroke=\"black\" points=\"115.5,-55.5 115.5,-91.5 \"/>\n<text text-anchor=\"middle\" x=\"156.5\" y=\"-69.8\" font-family=\"Times,serif\" font-size=\"14.00\">grad 0.0000</text>\n</g>\n<!-- 138193818290128&#45;&gt;138193818288336* -->\n<g id=\"edge10\" class=\"edge\">\n<title>138193818290128&#45;&gt;138193818288336*</title>\n<path fill=\"none\" stroke=\"black\" d=\"M197.91,-73.5C207.65,-73.5 217.05,-73.5 225.52,-73.5\"/>\n<polygon fill=\"black\" stroke=\"black\" points=\"225.7,-77 235.7,-73.5 225.7,-70 225.7,-77\"/>\n</g>\n<!-- 138193818288528 -->\n<g id=\"node12\" class=\"node\">\n<title>138193818288528</title>\n<polygon fill=\"none\" stroke=\"black\" points=\"672,-82.5 672,-118.5 945,-118.5 945,-82.5 672,-82.5\"/>\n<text text-anchor=\"middle\" x=\"725\" y=\"-96.8\" font-family=\"Times,serif\" font-size=\"14.00\">x1*w1 + x2*w2</text>\n<polyline fill=\"none\" stroke=\"black\" points=\"778,-82.5 778,-118.5 \"/>\n<text text-anchor=\"middle\" x=\"820.5\" y=\"-96.8\" font-family=\"Times,serif\" font-size=\"14.00\">data &#45;6.0000</text>\n<polyline fill=\"none\" stroke=\"black\" points=\"863,-82.5 863,-118.5 \"/>\n<text text-anchor=\"middle\" x=\"904\" y=\"-96.8\" font-family=\"Times,serif\" font-size=\"14.00\">grad 0.5000</text>\n</g>\n<!-- 138193818288528&#45;&gt;138193818289936+ -->\n<g id=\"edge6\" class=\"edge\">\n<title>138193818288528&#45;&gt;138193818289936+</title>\n<path fill=\"none\" stroke=\"black\" d=\"M936.53,-82.49C949.09,-80.71 960.99,-79.02 971.3,-77.56\"/>\n<polygon fill=\"black\" stroke=\"black\" points=\"972.03,-80.99 981.44,-76.12 971.05,-74.06 972.03,-80.99\"/>\n</g>\n<!-- 138193818288528+&#45;&gt;138193818288528 -->\n<g id=\"edge5\" class=\"edge\">\n<title>138193818288528+&#45;&gt;138193818288528</title>\n<path fill=\"none\" stroke=\"black\" d=\"M636.23,-100.5C643.7,-100.5 652.41,-100.5 661.87,-100.5\"/>\n<polygon fill=\"black\" stroke=\"black\" points=\"661.98,-104 671.98,-100.5 661.98,-97 661.98,-104\"/>\n</g>\n<!-- 138193818290640 -->\n<g id=\"node14\" class=\"node\">\n<title>138193818290640</title>\n<polygon fill=\"none\" stroke=\"black\" points=\"4,-0.5 4,-36.5 196,-36.5 196,-0.5 4,-0.5\"/>\n<text text-anchor=\"middle\" x=\"19\" y=\"-14.8\" font-family=\"Times,serif\" font-size=\"14.00\">x2</text>\n<polyline fill=\"none\" stroke=\"black\" points=\"34,-0.5 34,-36.5 \"/>\n<text text-anchor=\"middle\" x=\"74\" y=\"-14.8\" font-family=\"Times,serif\" font-size=\"14.00\">data 0.0000</text>\n<polyline fill=\"none\" stroke=\"black\" points=\"114,-0.5 114,-36.5 \"/>\n<text text-anchor=\"middle\" x=\"155\" y=\"-14.8\" font-family=\"Times,serif\" font-size=\"14.00\">grad 0.5000</text>\n</g>\n<!-- 138193818290640&#45;&gt;138193818288336* -->\n<g id=\"edge9\" class=\"edge\">\n<title>138193818290640&#45;&gt;138193818288336*</title>\n<path fill=\"none\" stroke=\"black\" d=\"M169.28,-36.5C179.65,-39.61 190.16,-42.98 200,-46.5 210.28,-50.17 221.28,-54.74 231.11,-59.07\"/>\n<polygon fill=\"black\" stroke=\"black\" points=\"229.93,-62.37 240.48,-63.27 232.79,-55.99 229.93,-62.37\"/>\n</g>\n<!-- 138194202411920 -->\n<g id=\"node15\" class=\"node\">\n<title>138194202411920</title>\n<polygon fill=\"none\" stroke=\"black\" points=\"2,-110.5 2,-146.5 198,-146.5 198,-110.5 2,-110.5\"/>\n<text text-anchor=\"middle\" x=\"17\" y=\"-124.8\" font-family=\"Times,serif\" font-size=\"14.00\">x1</text>\n<polyline fill=\"none\" stroke=\"black\" points=\"32,-110.5 32,-146.5 \"/>\n<text text-anchor=\"middle\" x=\"72\" y=\"-124.8\" font-family=\"Times,serif\" font-size=\"14.00\">data 2.0000</text>\n<polyline fill=\"none\" stroke=\"black\" points=\"112,-110.5 112,-146.5 \"/>\n<text text-anchor=\"middle\" x=\"155\" y=\"-124.8\" font-family=\"Times,serif\" font-size=\"14.00\">grad &#45;1.5000</text>\n</g>\n<!-- 138194202411920&#45;&gt;138193818289872* -->\n<g id=\"edge13\" class=\"edge\">\n<title>138194202411920&#45;&gt;138193818289872*</title>\n<path fill=\"none\" stroke=\"black\" d=\"M198.37,-128.5C208.05,-128.5 217.4,-128.5 225.8,-128.5\"/>\n<polygon fill=\"black\" stroke=\"black\" points=\"225.91,-132 235.91,-128.5 225.91,-125 225.91,-132\"/>\n</g>\n</g>\n</svg>\n",
            "text/plain": [
              "<graphviz.graphs.Digraph at 0x7dafc1730390>"
            ]
          },
          "metadata": {},
          "execution_count": 45
        }
      ]
    },
    {
      "cell_type": "code",
      "source": [
        "# reset grads to verify\n",
        "for n in nodes:\n",
        "    n.grad = 0"
      ],
      "metadata": {
        "id": "6AhYeS8_6RK4"
      },
      "execution_count": 46,
      "outputs": []
    },
    {
      "cell_type": "code",
      "execution_count": 47,
      "metadata": {
        "id": "szmbPCxE4lAX"
      },
      "outputs": [],
      "source": [
        "o.backward()"
      ]
    },
    {
      "cell_type": "code",
      "execution_count": 48,
      "metadata": {
        "colab": {
          "base_uri": "https://localhost:8080/",
          "height": 321
        },
        "id": "cJvOuOzr4lAX",
        "outputId": "3d17b09e-f8cd-4a16-e044-b832119efd2b"
      },
      "outputs": [
        {
          "output_type": "execute_result",
          "data": {
            "image/svg+xml": "<?xml version=\"1.0\" encoding=\"UTF-8\" standalone=\"no\"?>\n<!DOCTYPE svg PUBLIC \"-//W3C//DTD SVG 1.1//EN\"\n \"http://www.w3.org/Graphics/SVG/1.1/DTD/svg11.dtd\">\n<!-- Generated by graphviz version 2.43.0 (0)\n -->\n<!-- Title: %3 Pages: 1 -->\n<svg width=\"1575pt\" height=\"210pt\"\n viewBox=\"0.00 0.00 1575.00 210.00\" xmlns=\"http://www.w3.org/2000/svg\" xmlns:xlink=\"http://www.w3.org/1999/xlink\">\n<g id=\"graph0\" class=\"graph\" transform=\"scale(1 1) rotate(0) translate(4 206)\">\n<title>%3</title>\n<polygon fill=\"white\" stroke=\"transparent\" points=\"-4,4 -4,-206 1571,-206 1571,4 -4,4\"/>\n<!-- 138193818290064 -->\n<g id=\"node1\" class=\"node\">\n<title>138193818290064</title>\n<polygon fill=\"none\" stroke=\"black\" points=\"0,-165.5 0,-201.5 200,-201.5 200,-165.5 0,-165.5\"/>\n<text text-anchor=\"middle\" x=\"16.5\" y=\"-179.8\" font-family=\"Times,serif\" font-size=\"14.00\">w1</text>\n<polyline fill=\"none\" stroke=\"black\" points=\"33,-165.5 33,-201.5 \"/>\n<text text-anchor=\"middle\" x=\"75.5\" y=\"-179.8\" font-family=\"Times,serif\" font-size=\"14.00\">data &#45;3.0000</text>\n<polyline fill=\"none\" stroke=\"black\" points=\"118,-165.5 118,-201.5 \"/>\n<text text-anchor=\"middle\" x=\"159\" y=\"-179.8\" font-family=\"Times,serif\" font-size=\"14.00\">grad 1.0000</text>\n</g>\n<!-- 138193818289872* -->\n<g id=\"node8\" class=\"node\">\n<title>138193818289872*</title>\n<ellipse fill=\"none\" stroke=\"black\" cx=\"263\" cy=\"-128.5\" rx=\"27\" ry=\"18\"/>\n<text text-anchor=\"middle\" x=\"263\" y=\"-124.8\" font-family=\"Times,serif\" font-size=\"14.00\">*</text>\n</g>\n<!-- 138193818290064&#45;&gt;138193818289872* -->\n<g id=\"edge8\" class=\"edge\">\n<title>138193818290064&#45;&gt;138193818289872*</title>\n<path fill=\"none\" stroke=\"black\" d=\"M172.53,-165.44C181.84,-162.67 191.2,-159.67 200,-156.5 210.53,-152.71 221.75,-147.9 231.72,-143.33\"/>\n<polygon fill=\"black\" stroke=\"black\" points=\"233.25,-146.48 240.82,-139.07 230.28,-140.14 233.25,-146.48\"/>\n</g>\n<!-- 138193818290576 -->\n<g id=\"node2\" class=\"node\">\n<title>138193818290576</title>\n<polygon fill=\"none\" stroke=\"black\" points=\"716,-27.5 716,-63.5 901,-63.5 901,-27.5 716,-27.5\"/>\n<text text-anchor=\"middle\" x=\"727.5\" y=\"-41.8\" font-family=\"Times,serif\" font-size=\"14.00\">b</text>\n<polyline fill=\"none\" stroke=\"black\" points=\"739,-27.5 739,-63.5 \"/>\n<text text-anchor=\"middle\" x=\"779\" y=\"-41.8\" font-family=\"Times,serif\" font-size=\"14.00\">data 6.8814</text>\n<polyline fill=\"none\" stroke=\"black\" points=\"819,-27.5 819,-63.5 \"/>\n<text text-anchor=\"middle\" x=\"860\" y=\"-41.8\" font-family=\"Times,serif\" font-size=\"14.00\">grad 0.5000</text>\n</g>\n<!-- 138193818289936+ -->\n<g id=\"node10\" class=\"node\">\n<title>138193818289936+</title>\n<ellipse fill=\"none\" stroke=\"black\" cx=\"1008\" cy=\"-72.5\" rx=\"27\" ry=\"18\"/>\n<text text-anchor=\"middle\" x=\"1008\" y=\"-68.8\" font-family=\"Times,serif\" font-size=\"14.00\">+</text>\n</g>\n<!-- 138193818290576&#45;&gt;138193818289936+ -->\n<g id=\"edge12\" class=\"edge\">\n<title>138193818290576&#45;&gt;138193818289936+</title>\n<path fill=\"none\" stroke=\"black\" d=\"M901.02,-58.01C926,-61.43 951.59,-64.93 971.37,-67.63\"/>\n<polygon fill=\"black\" stroke=\"black\" points=\"971.05,-71.12 981.43,-69.01 972,-64.18 971.05,-71.12\"/>\n</g>\n<!-- 138193818288208 -->\n<g id=\"node3\" class=\"node\">\n<title>138193818288208</title>\n<polygon fill=\"none\" stroke=\"black\" points=\"1382,-54.5 1382,-90.5 1567,-90.5 1567,-54.5 1382,-54.5\"/>\n<text text-anchor=\"middle\" x=\"1393.5\" y=\"-68.8\" font-family=\"Times,serif\" font-size=\"14.00\">o</text>\n<polyline fill=\"none\" stroke=\"black\" points=\"1405,-54.5 1405,-90.5 \"/>\n<text text-anchor=\"middle\" x=\"1445\" y=\"-68.8\" font-family=\"Times,serif\" font-size=\"14.00\">data 0.7071</text>\n<polyline fill=\"none\" stroke=\"black\" points=\"1485,-54.5 1485,-90.5 \"/>\n<text text-anchor=\"middle\" x=\"1526\" y=\"-68.8\" font-family=\"Times,serif\" font-size=\"14.00\">grad 1.0000</text>\n</g>\n<!-- 138193818288208tanh -->\n<g id=\"node4\" class=\"node\">\n<title>138193818288208tanh</title>\n<ellipse fill=\"none\" stroke=\"black\" cx=\"1319\" cy=\"-72.5\" rx=\"27\" ry=\"18\"/>\n<text text-anchor=\"middle\" x=\"1319\" y=\"-68.8\" font-family=\"Times,serif\" font-size=\"14.00\">tanh</text>\n</g>\n<!-- 138193818288208tanh&#45;&gt;138193818288208 -->\n<g id=\"edge1\" class=\"edge\">\n<title>138193818288208tanh&#45;&gt;138193818288208</title>\n<path fill=\"none\" stroke=\"black\" d=\"M1346.04,-72.5C1353.58,-72.5 1362.3,-72.5 1371.57,-72.5\"/>\n<polygon fill=\"black\" stroke=\"black\" points=\"1371.81,-76 1381.81,-72.5 1371.81,-69 1371.81,-76\"/>\n</g>\n<!-- 138193818288336 -->\n<g id=\"node5\" class=\"node\">\n<title>138193818288336</title>\n<polygon fill=\"none\" stroke=\"black\" points=\"328.5,-55.5 328.5,-91.5 543.5,-91.5 543.5,-55.5 328.5,-55.5\"/>\n<text text-anchor=\"middle\" x=\"355\" y=\"-69.8\" font-family=\"Times,serif\" font-size=\"14.00\">x2*w2</text>\n<polyline fill=\"none\" stroke=\"black\" points=\"381.5,-55.5 381.5,-91.5 \"/>\n<text text-anchor=\"middle\" x=\"421.5\" y=\"-69.8\" font-family=\"Times,serif\" font-size=\"14.00\">data 0.0000</text>\n<polyline fill=\"none\" stroke=\"black\" points=\"461.5,-55.5 461.5,-91.5 \"/>\n<text text-anchor=\"middle\" x=\"502.5\" y=\"-69.8\" font-family=\"Times,serif\" font-size=\"14.00\">grad 0.5000</text>\n</g>\n<!-- 138193818288528+ -->\n<g id=\"node13\" class=\"node\">\n<title>138193818288528+</title>\n<ellipse fill=\"none\" stroke=\"black\" cx=\"609\" cy=\"-100.5\" rx=\"27\" ry=\"18\"/>\n<text text-anchor=\"middle\" x=\"609\" y=\"-96.8\" font-family=\"Times,serif\" font-size=\"14.00\">+</text>\n</g>\n<!-- 138193818288336&#45;&gt;138193818288528+ -->\n<g id=\"edge11\" class=\"edge\">\n<title>138193818288336&#45;&gt;138193818288528+</title>\n<path fill=\"none\" stroke=\"black\" d=\"M543.84,-90.37C554.01,-91.98 563.76,-93.51 572.44,-94.89\"/>\n<polygon fill=\"black\" stroke=\"black\" points=\"572.05,-98.37 582.47,-96.47 573.14,-91.45 572.05,-98.37\"/>\n</g>\n<!-- 138193818288336* -->\n<g id=\"node6\" class=\"node\">\n<title>138193818288336*</title>\n<ellipse fill=\"none\" stroke=\"black\" cx=\"263\" cy=\"-73.5\" rx=\"27\" ry=\"18\"/>\n<text text-anchor=\"middle\" x=\"263\" y=\"-69.8\" font-family=\"Times,serif\" font-size=\"14.00\">*</text>\n</g>\n<!-- 138193818288336*&#45;&gt;138193818288336 -->\n<g id=\"edge2\" class=\"edge\">\n<title>138193818288336*&#45;&gt;138193818288336</title>\n<path fill=\"none\" stroke=\"black\" d=\"M290.34,-73.5C298.51,-73.5 308.08,-73.5 318.36,-73.5\"/>\n<polygon fill=\"black\" stroke=\"black\" points=\"318.39,-77 328.39,-73.5 318.39,-70 318.39,-77\"/>\n</g>\n<!-- 138193818289872 -->\n<g id=\"node7\" class=\"node\">\n<title>138193818289872</title>\n<polygon fill=\"none\" stroke=\"black\" points=\"326,-110.5 326,-146.5 546,-146.5 546,-110.5 326,-110.5\"/>\n<text text-anchor=\"middle\" x=\"352.5\" y=\"-124.8\" font-family=\"Times,serif\" font-size=\"14.00\">x1*w1</text>\n<polyline fill=\"none\" stroke=\"black\" points=\"379,-110.5 379,-146.5 \"/>\n<text text-anchor=\"middle\" x=\"421.5\" y=\"-124.8\" font-family=\"Times,serif\" font-size=\"14.00\">data &#45;6.0000</text>\n<polyline fill=\"none\" stroke=\"black\" points=\"464,-110.5 464,-146.5 \"/>\n<text text-anchor=\"middle\" x=\"505\" y=\"-124.8\" font-family=\"Times,serif\" font-size=\"14.00\">grad 0.5000</text>\n</g>\n<!-- 138193818289872&#45;&gt;138193818288528+ -->\n<g id=\"edge7\" class=\"edge\">\n<title>138193818289872&#45;&gt;138193818288528+</title>\n<path fill=\"none\" stroke=\"black\" d=\"M546.27,-110.61C555.64,-109.07 564.6,-107.61 572.65,-106.29\"/>\n<polygon fill=\"black\" stroke=\"black\" points=\"573.35,-109.72 582.65,-104.65 572.22,-102.81 573.35,-109.72\"/>\n</g>\n<!-- 138193818289872*&#45;&gt;138193818289872 -->\n<g id=\"edge3\" class=\"edge\">\n<title>138193818289872*&#45;&gt;138193818289872</title>\n<path fill=\"none\" stroke=\"black\" d=\"M290.34,-128.5C297.77,-128.5 306.37,-128.5 315.6,-128.5\"/>\n<polygon fill=\"black\" stroke=\"black\" points=\"315.84,-132 325.84,-128.5 315.84,-125 315.84,-132\"/>\n</g>\n<!-- 138193818289936 -->\n<g id=\"node9\" class=\"node\">\n<title>138193818289936</title>\n<polygon fill=\"none\" stroke=\"black\" points=\"1071,-54.5 1071,-90.5 1256,-90.5 1256,-54.5 1071,-54.5\"/>\n<text text-anchor=\"middle\" x=\"1082.5\" y=\"-68.8\" font-family=\"Times,serif\" font-size=\"14.00\">n</text>\n<polyline fill=\"none\" stroke=\"black\" points=\"1094,-54.5 1094,-90.5 \"/>\n<text text-anchor=\"middle\" x=\"1134\" y=\"-68.8\" font-family=\"Times,serif\" font-size=\"14.00\">data 0.8814</text>\n<polyline fill=\"none\" stroke=\"black\" points=\"1174,-54.5 1174,-90.5 \"/>\n<text text-anchor=\"middle\" x=\"1215\" y=\"-68.8\" font-family=\"Times,serif\" font-size=\"14.00\">grad 0.5000</text>\n</g>\n<!-- 138193818289936&#45;&gt;138193818288208tanh -->\n<g id=\"edge14\" class=\"edge\">\n<title>138193818289936&#45;&gt;138193818288208tanh</title>\n<path fill=\"none\" stroke=\"black\" d=\"M1256.01,-72.5C1265.01,-72.5 1273.74,-72.5 1281.66,-72.5\"/>\n<polygon fill=\"black\" stroke=\"black\" points=\"1281.91,-76 1291.91,-72.5 1281.91,-69 1281.91,-76\"/>\n</g>\n<!-- 138193818289936+&#45;&gt;138193818289936 -->\n<g id=\"edge4\" class=\"edge\">\n<title>138193818289936+&#45;&gt;138193818289936</title>\n<path fill=\"none\" stroke=\"black\" d=\"M1035.04,-72.5C1042.58,-72.5 1051.3,-72.5 1060.57,-72.5\"/>\n<polygon fill=\"black\" stroke=\"black\" points=\"1060.81,-76 1070.81,-72.5 1060.81,-69 1060.81,-76\"/>\n</g>\n<!-- 138193818290128 -->\n<g id=\"node11\" class=\"node\">\n<title>138193818290128</title>\n<polygon fill=\"none\" stroke=\"black\" points=\"2.5,-55.5 2.5,-91.5 197.5,-91.5 197.5,-55.5 2.5,-55.5\"/>\n<text text-anchor=\"middle\" x=\"19\" y=\"-69.8\" font-family=\"Times,serif\" font-size=\"14.00\">w2</text>\n<polyline fill=\"none\" stroke=\"black\" points=\"35.5,-55.5 35.5,-91.5 \"/>\n<text text-anchor=\"middle\" x=\"75.5\" y=\"-69.8\" font-family=\"Times,serif\" font-size=\"14.00\">data 1.0000</text>\n<polyline fill=\"none\" stroke=\"black\" points=\"115.5,-55.5 115.5,-91.5 \"/>\n<text text-anchor=\"middle\" x=\"156.5\" y=\"-69.8\" font-family=\"Times,serif\" font-size=\"14.00\">grad 0.0000</text>\n</g>\n<!-- 138193818290128&#45;&gt;138193818288336* -->\n<g id=\"edge10\" class=\"edge\">\n<title>138193818290128&#45;&gt;138193818288336*</title>\n<path fill=\"none\" stroke=\"black\" d=\"M197.91,-73.5C207.65,-73.5 217.05,-73.5 225.52,-73.5\"/>\n<polygon fill=\"black\" stroke=\"black\" points=\"225.7,-77 235.7,-73.5 225.7,-70 225.7,-77\"/>\n</g>\n<!-- 138193818288528 -->\n<g id=\"node12\" class=\"node\">\n<title>138193818288528</title>\n<polygon fill=\"none\" stroke=\"black\" points=\"672,-82.5 672,-118.5 945,-118.5 945,-82.5 672,-82.5\"/>\n<text text-anchor=\"middle\" x=\"725\" y=\"-96.8\" font-family=\"Times,serif\" font-size=\"14.00\">x1*w1 + x2*w2</text>\n<polyline fill=\"none\" stroke=\"black\" points=\"778,-82.5 778,-118.5 \"/>\n<text text-anchor=\"middle\" x=\"820.5\" y=\"-96.8\" font-family=\"Times,serif\" font-size=\"14.00\">data &#45;6.0000</text>\n<polyline fill=\"none\" stroke=\"black\" points=\"863,-82.5 863,-118.5 \"/>\n<text text-anchor=\"middle\" x=\"904\" y=\"-96.8\" font-family=\"Times,serif\" font-size=\"14.00\">grad 0.5000</text>\n</g>\n<!-- 138193818288528&#45;&gt;138193818289936+ -->\n<g id=\"edge6\" class=\"edge\">\n<title>138193818288528&#45;&gt;138193818289936+</title>\n<path fill=\"none\" stroke=\"black\" d=\"M936.53,-82.49C949.09,-80.71 960.99,-79.02 971.3,-77.56\"/>\n<polygon fill=\"black\" stroke=\"black\" points=\"972.03,-80.99 981.44,-76.12 971.05,-74.06 972.03,-80.99\"/>\n</g>\n<!-- 138193818288528+&#45;&gt;138193818288528 -->\n<g id=\"edge5\" class=\"edge\">\n<title>138193818288528+&#45;&gt;138193818288528</title>\n<path fill=\"none\" stroke=\"black\" d=\"M636.23,-100.5C643.7,-100.5 652.41,-100.5 661.87,-100.5\"/>\n<polygon fill=\"black\" stroke=\"black\" points=\"661.98,-104 671.98,-100.5 661.98,-97 661.98,-104\"/>\n</g>\n<!-- 138193818290640 -->\n<g id=\"node14\" class=\"node\">\n<title>138193818290640</title>\n<polygon fill=\"none\" stroke=\"black\" points=\"4,-0.5 4,-36.5 196,-36.5 196,-0.5 4,-0.5\"/>\n<text text-anchor=\"middle\" x=\"19\" y=\"-14.8\" font-family=\"Times,serif\" font-size=\"14.00\">x2</text>\n<polyline fill=\"none\" stroke=\"black\" points=\"34,-0.5 34,-36.5 \"/>\n<text text-anchor=\"middle\" x=\"74\" y=\"-14.8\" font-family=\"Times,serif\" font-size=\"14.00\">data 0.0000</text>\n<polyline fill=\"none\" stroke=\"black\" points=\"114,-0.5 114,-36.5 \"/>\n<text text-anchor=\"middle\" x=\"155\" y=\"-14.8\" font-family=\"Times,serif\" font-size=\"14.00\">grad 0.5000</text>\n</g>\n<!-- 138193818290640&#45;&gt;138193818288336* -->\n<g id=\"edge9\" class=\"edge\">\n<title>138193818290640&#45;&gt;138193818288336*</title>\n<path fill=\"none\" stroke=\"black\" d=\"M169.28,-36.5C179.65,-39.61 190.16,-42.98 200,-46.5 210.28,-50.17 221.28,-54.74 231.11,-59.07\"/>\n<polygon fill=\"black\" stroke=\"black\" points=\"229.93,-62.37 240.48,-63.27 232.79,-55.99 229.93,-62.37\"/>\n</g>\n<!-- 138194202411920 -->\n<g id=\"node15\" class=\"node\">\n<title>138194202411920</title>\n<polygon fill=\"none\" stroke=\"black\" points=\"2,-110.5 2,-146.5 198,-146.5 198,-110.5 2,-110.5\"/>\n<text text-anchor=\"middle\" x=\"17\" y=\"-124.8\" font-family=\"Times,serif\" font-size=\"14.00\">x1</text>\n<polyline fill=\"none\" stroke=\"black\" points=\"32,-110.5 32,-146.5 \"/>\n<text text-anchor=\"middle\" x=\"72\" y=\"-124.8\" font-family=\"Times,serif\" font-size=\"14.00\">data 2.0000</text>\n<polyline fill=\"none\" stroke=\"black\" points=\"112,-110.5 112,-146.5 \"/>\n<text text-anchor=\"middle\" x=\"155\" y=\"-124.8\" font-family=\"Times,serif\" font-size=\"14.00\">grad &#45;1.5000</text>\n</g>\n<!-- 138194202411920&#45;&gt;138193818289872* -->\n<g id=\"edge13\" class=\"edge\">\n<title>138194202411920&#45;&gt;138193818289872*</title>\n<path fill=\"none\" stroke=\"black\" d=\"M198.37,-128.5C208.05,-128.5 217.4,-128.5 225.8,-128.5\"/>\n<polygon fill=\"black\" stroke=\"black\" points=\"225.91,-132 235.91,-128.5 225.91,-125 225.91,-132\"/>\n</g>\n</g>\n</svg>\n",
            "text/plain": [
              "<graphviz.graphs.Digraph at 0x7dafc1706810>"
            ]
          },
          "metadata": {},
          "execution_count": 48
        }
      ],
      "source": [
        "draw_dot(o)"
      ]
    },
    {
      "cell_type": "code",
      "execution_count": 23,
      "metadata": {
        "colab": {
          "base_uri": "https://localhost:8080/",
          "height": 81
        },
        "id": "3Hk1_YkG4lAX",
        "outputId": "9b393fe2-bc36-455e-e673-f4bec9f61d3e"
      },
      "outputs": [
        {
          "output_type": "execute_result",
          "data": {
            "image/svg+xml": "<?xml version=\"1.0\" encoding=\"UTF-8\" standalone=\"no\"?>\n<!DOCTYPE svg PUBLIC \"-//W3C//DTD SVG 1.1//EN\"\n \"http://www.w3.org/Graphics/SVG/1.1/DTD/svg11.dtd\">\n<!-- Generated by graphviz version 2.43.0 (0)\n -->\n<!-- Title: %3 Pages: 1 -->\n<svg width=\"504pt\" height=\"45pt\"\n viewBox=\"0.00 0.00 504.00 45.00\" xmlns=\"http://www.w3.org/2000/svg\" xmlns:xlink=\"http://www.w3.org/1999/xlink\">\n<g id=\"graph0\" class=\"graph\" transform=\"scale(1 1) rotate(0) translate(4 41)\">\n<title>%3</title>\n<polygon fill=\"white\" stroke=\"transparent\" points=\"-4,4 -4,-41 500,-41 500,4 -4,4\"/>\n<!-- 138194202358032 -->\n<g id=\"node1\" class=\"node\">\n<title>138194202358032</title>\n<polygon fill=\"none\" stroke=\"black\" points=\"311,-0.5 311,-36.5 496,-36.5 496,-0.5 311,-0.5\"/>\n<text text-anchor=\"middle\" x=\"322.5\" y=\"-14.8\" font-family=\"Times,serif\" font-size=\"14.00\">b</text>\n<polyline fill=\"none\" stroke=\"black\" points=\"334,-0.5 334,-36.5 \"/>\n<text text-anchor=\"middle\" x=\"374\" y=\"-14.8\" font-family=\"Times,serif\" font-size=\"14.00\">data 6.0000</text>\n<polyline fill=\"none\" stroke=\"black\" points=\"414,-0.5 414,-36.5 \"/>\n<text text-anchor=\"middle\" x=\"455\" y=\"-14.8\" font-family=\"Times,serif\" font-size=\"14.00\">grad 1.0000</text>\n</g>\n<!-- 138194202358032+ -->\n<g id=\"node2\" class=\"node\">\n<title>138194202358032+</title>\n<ellipse fill=\"none\" stroke=\"black\" cx=\"248\" cy=\"-18.5\" rx=\"27\" ry=\"18\"/>\n<text text-anchor=\"middle\" x=\"248\" y=\"-14.8\" font-family=\"Times,serif\" font-size=\"14.00\">+</text>\n</g>\n<!-- 138194202358032+&#45;&gt;138194202358032 -->\n<g id=\"edge1\" class=\"edge\">\n<title>138194202358032+&#45;&gt;138194202358032</title>\n<path fill=\"none\" stroke=\"black\" d=\"M275.04,-18.5C282.58,-18.5 291.3,-18.5 300.57,-18.5\"/>\n<polygon fill=\"black\" stroke=\"black\" points=\"300.81,-22 310.81,-18.5 300.81,-15 300.81,-22\"/>\n</g>\n<!-- 138194202358352 -->\n<g id=\"node3\" class=\"node\">\n<title>138194202358352</title>\n<polygon fill=\"none\" stroke=\"black\" points=\"0,-0.5 0,-36.5 185,-36.5 185,-0.5 0,-0.5\"/>\n<text text-anchor=\"middle\" x=\"11.5\" y=\"-14.8\" font-family=\"Times,serif\" font-size=\"14.00\">a</text>\n<polyline fill=\"none\" stroke=\"black\" points=\"23,-0.5 23,-36.5 \"/>\n<text text-anchor=\"middle\" x=\"63\" y=\"-14.8\" font-family=\"Times,serif\" font-size=\"14.00\">data 3.0000</text>\n<polyline fill=\"none\" stroke=\"black\" points=\"103,-0.5 103,-36.5 \"/>\n<text text-anchor=\"middle\" x=\"144\" y=\"-14.8\" font-family=\"Times,serif\" font-size=\"14.00\">grad 2.0000</text>\n</g>\n<!-- 138194202358352&#45;&gt;138194202358032+ -->\n<g id=\"edge2\" class=\"edge\">\n<title>138194202358352&#45;&gt;138194202358032+</title>\n<path fill=\"none\" stroke=\"black\" d=\"M185.01,-18.5C194.01,-18.5 202.74,-18.5 210.66,-18.5\"/>\n<polygon fill=\"black\" stroke=\"black\" points=\"210.91,-22 220.91,-18.5 210.91,-15 210.91,-22\"/>\n</g>\n</g>\n</svg>\n",
            "text/plain": [
              "<graphviz.graphs.Digraph at 0x7dafd8574650>"
            ]
          },
          "metadata": {},
          "execution_count": 23
        }
      ],
      "source": [
        "a = Value(3.0, label='a')\n",
        "b  = a+a ; b.label ='b'\n",
        "b.backward()\n",
        "draw_dot(b)"
      ]
    },
    {
      "cell_type": "code",
      "execution_count": 24,
      "metadata": {
        "colab": {
          "base_uri": "https://localhost:8080/",
          "height": 155
        },
        "id": "NU5nh28w4lAY",
        "outputId": "a4c29f6b-bed3-45fa-f046-4060428b1080"
      },
      "outputs": [
        {
          "output_type": "execute_result",
          "data": {
            "image/svg+xml": "<?xml version=\"1.0\" encoding=\"UTF-8\" standalone=\"no\"?>\n<!DOCTYPE svg PUBLIC \"-//W3C//DTD SVG 1.1//EN\"\n \"http://www.w3.org/Graphics/SVG/1.1/DTD/svg11.dtd\">\n<!-- Generated by graphviz version 2.43.0 (0)\n -->\n<!-- Title: %3 Pages: 1 -->\n<svg width=\"832pt\" height=\"100pt\"\n viewBox=\"0.00 0.00 832.00 100.00\" xmlns=\"http://www.w3.org/2000/svg\" xmlns:xlink=\"http://www.w3.org/1999/xlink\">\n<g id=\"graph0\" class=\"graph\" transform=\"scale(1 1) rotate(0) translate(4 96)\">\n<title>%3</title>\n<polygon fill=\"white\" stroke=\"transparent\" points=\"-4,4 -4,-96 828,-96 828,4 -4,4\"/>\n<!-- 138194202383888 -->\n<g id=\"node1\" class=\"node\">\n<title>138194202383888</title>\n<polygon fill=\"none\" stroke=\"black\" points=\"0,-55.5 0,-91.5 194,-91.5 194,-55.5 0,-55.5\"/>\n<text text-anchor=\"middle\" x=\"11.5\" y=\"-69.8\" font-family=\"Times,serif\" font-size=\"14.00\">a</text>\n<polyline fill=\"none\" stroke=\"black\" points=\"23,-55.5 23,-91.5 \"/>\n<text text-anchor=\"middle\" x=\"65.5\" y=\"-69.8\" font-family=\"Times,serif\" font-size=\"14.00\">data &#45;2.0000</text>\n<polyline fill=\"none\" stroke=\"black\" points=\"108,-55.5 108,-91.5 \"/>\n<text text-anchor=\"middle\" x=\"151\" y=\"-69.8\" font-family=\"Times,serif\" font-size=\"14.00\">grad &#45;3.0000</text>\n</g>\n<!-- 138194202385488* -->\n<g id=\"node3\" class=\"node\">\n<title>138194202385488*</title>\n<ellipse fill=\"none\" stroke=\"black\" cx=\"257\" cy=\"-73.5\" rx=\"27\" ry=\"18\"/>\n<text text-anchor=\"middle\" x=\"257\" y=\"-69.8\" font-family=\"Times,serif\" font-size=\"14.00\">*</text>\n</g>\n<!-- 138194202383888&#45;&gt;138194202385488* -->\n<g id=\"edge8\" class=\"edge\">\n<title>138194202383888&#45;&gt;138194202385488*</title>\n<path fill=\"none\" stroke=\"black\" d=\"M194.01,-73.5C202.98,-73.5 211.65,-73.5 219.51,-73.5\"/>\n<polygon fill=\"black\" stroke=\"black\" points=\"219.7,-77 229.7,-73.5 219.7,-70 219.7,-77\"/>\n</g>\n<!-- 138194202385552+ -->\n<g id=\"node7\" class=\"node\">\n<title>138194202385552+</title>\n<ellipse fill=\"none\" stroke=\"black\" cx=\"257\" cy=\"-18.5\" rx=\"27\" ry=\"18\"/>\n<text text-anchor=\"middle\" x=\"257\" y=\"-14.8\" font-family=\"Times,serif\" font-size=\"14.00\">+</text>\n</g>\n<!-- 138194202383888&#45;&gt;138194202385552+ -->\n<g id=\"edge4\" class=\"edge\">\n<title>138194202383888&#45;&gt;138194202385552+</title>\n<path fill=\"none\" stroke=\"black\" d=\"M166.84,-55.49C176.04,-52.69 185.3,-49.67 194,-46.5 204.51,-42.67 215.73,-37.84 225.7,-33.28\"/>\n<polygon fill=\"black\" stroke=\"black\" points=\"227.23,-36.43 234.81,-29.02 224.27,-30.09 227.23,-36.43\"/>\n</g>\n<!-- 138194202385488 -->\n<g id=\"node2\" class=\"node\">\n<title>138194202385488</title>\n<polygon fill=\"none\" stroke=\"black\" points=\"320,-55.5 320,-91.5 510,-91.5 510,-55.5 320,-55.5\"/>\n<text text-anchor=\"middle\" x=\"331.5\" y=\"-69.8\" font-family=\"Times,serif\" font-size=\"14.00\">d</text>\n<polyline fill=\"none\" stroke=\"black\" points=\"343,-55.5 343,-91.5 \"/>\n<text text-anchor=\"middle\" x=\"385.5\" y=\"-69.8\" font-family=\"Times,serif\" font-size=\"14.00\">data &#45;6.0000</text>\n<polyline fill=\"none\" stroke=\"black\" points=\"428,-55.5 428,-91.5 \"/>\n<text text-anchor=\"middle\" x=\"469\" y=\"-69.8\" font-family=\"Times,serif\" font-size=\"14.00\">grad 1.0000</text>\n</g>\n<!-- 138194202393680* -->\n<g id=\"node5\" class=\"node\">\n<title>138194202393680*</title>\n<ellipse fill=\"none\" stroke=\"black\" cx=\"573\" cy=\"-45.5\" rx=\"27\" ry=\"18\"/>\n<text text-anchor=\"middle\" x=\"573\" y=\"-41.8\" font-family=\"Times,serif\" font-size=\"14.00\">*</text>\n</g>\n<!-- 138194202385488&#45;&gt;138194202393680* -->\n<g id=\"edge7\" class=\"edge\">\n<title>138194202385488&#45;&gt;138194202393680*</title>\n<path fill=\"none\" stroke=\"black\" d=\"M510.34,-56.57C519.62,-54.9 528.58,-53.29 536.66,-51.84\"/>\n<polygon fill=\"black\" stroke=\"black\" points=\"537.49,-55.25 546.72,-50.04 536.26,-48.36 537.49,-55.25\"/>\n</g>\n<!-- 138194202385488*&#45;&gt;138194202385488 -->\n<g id=\"edge1\" class=\"edge\">\n<title>138194202385488*&#45;&gt;138194202385488</title>\n<path fill=\"none\" stroke=\"black\" d=\"M284.11,-73.5C291.63,-73.5 300.32,-73.5 309.58,-73.5\"/>\n<polygon fill=\"black\" stroke=\"black\" points=\"309.81,-77 319.81,-73.5 309.81,-70 309.81,-77\"/>\n</g>\n<!-- 138194202393680 -->\n<g id=\"node4\" class=\"node\">\n<title>138194202393680</title>\n<polygon fill=\"none\" stroke=\"black\" points=\"636,-27.5 636,-63.5 824,-63.5 824,-27.5 636,-27.5\"/>\n<text text-anchor=\"middle\" x=\"646.5\" y=\"-41.8\" font-family=\"Times,serif\" font-size=\"14.00\">f</text>\n<polyline fill=\"none\" stroke=\"black\" points=\"657,-27.5 657,-63.5 \"/>\n<text text-anchor=\"middle\" x=\"699.5\" y=\"-41.8\" font-family=\"Times,serif\" font-size=\"14.00\">data &#45;6.0000</text>\n<polyline fill=\"none\" stroke=\"black\" points=\"742,-27.5 742,-63.5 \"/>\n<text text-anchor=\"middle\" x=\"783\" y=\"-41.8\" font-family=\"Times,serif\" font-size=\"14.00\">grad 1.0000</text>\n</g>\n<!-- 138194202393680*&#45;&gt;138194202393680 -->\n<g id=\"edge2\" class=\"edge\">\n<title>138194202393680*&#45;&gt;138194202393680</title>\n<path fill=\"none\" stroke=\"black\" d=\"M600.29,-45.5C607.78,-45.5 616.42,-45.5 625.6,-45.5\"/>\n<polygon fill=\"black\" stroke=\"black\" points=\"625.76,-49 635.76,-45.5 625.76,-42 625.76,-49\"/>\n</g>\n<!-- 138194202385552 -->\n<g id=\"node6\" class=\"node\">\n<title>138194202385552</title>\n<polygon fill=\"none\" stroke=\"black\" points=\"320.5,-0.5 320.5,-36.5 509.5,-36.5 509.5,-0.5 320.5,-0.5\"/>\n<text text-anchor=\"middle\" x=\"332\" y=\"-14.8\" font-family=\"Times,serif\" font-size=\"14.00\">e</text>\n<polyline fill=\"none\" stroke=\"black\" points=\"343.5,-0.5 343.5,-36.5 \"/>\n<text text-anchor=\"middle\" x=\"383.5\" y=\"-14.8\" font-family=\"Times,serif\" font-size=\"14.00\">data 1.0000</text>\n<polyline fill=\"none\" stroke=\"black\" points=\"423.5,-0.5 423.5,-36.5 \"/>\n<text text-anchor=\"middle\" x=\"466.5\" y=\"-14.8\" font-family=\"Times,serif\" font-size=\"14.00\">grad &#45;6.0000</text>\n</g>\n<!-- 138194202385552&#45;&gt;138194202393680* -->\n<g id=\"edge5\" class=\"edge\">\n<title>138194202385552&#45;&gt;138194202393680*</title>\n<path fill=\"none\" stroke=\"black\" d=\"M509.9,-34.75C519.33,-36.38 528.45,-37.96 536.65,-39.38\"/>\n<polygon fill=\"black\" stroke=\"black\" points=\"536.06,-42.83 546.51,-41.09 537.26,-35.93 536.06,-42.83\"/>\n</g>\n<!-- 138194202385552+&#45;&gt;138194202385552 -->\n<g id=\"edge3\" class=\"edge\">\n<title>138194202385552+&#45;&gt;138194202385552</title>\n<path fill=\"none\" stroke=\"black\" d=\"M284.11,-18.5C291.84,-18.5 300.8,-18.5 310.35,-18.5\"/>\n<polygon fill=\"black\" stroke=\"black\" points=\"310.48,-22 320.48,-18.5 310.48,-15 310.48,-22\"/>\n</g>\n<!-- 138194202380496 -->\n<g id=\"node8\" class=\"node\">\n<title>138194202380496</title>\n<polygon fill=\"none\" stroke=\"black\" points=\"2.5,-0.5 2.5,-36.5 191.5,-36.5 191.5,-0.5 2.5,-0.5\"/>\n<text text-anchor=\"middle\" x=\"14\" y=\"-14.8\" font-family=\"Times,serif\" font-size=\"14.00\">b</text>\n<polyline fill=\"none\" stroke=\"black\" points=\"25.5,-0.5 25.5,-36.5 \"/>\n<text text-anchor=\"middle\" x=\"65.5\" y=\"-14.8\" font-family=\"Times,serif\" font-size=\"14.00\">data 3.0000</text>\n<polyline fill=\"none\" stroke=\"black\" points=\"105.5,-0.5 105.5,-36.5 \"/>\n<text text-anchor=\"middle\" x=\"148.5\" y=\"-14.8\" font-family=\"Times,serif\" font-size=\"14.00\">grad &#45;8.0000</text>\n</g>\n<!-- 138194202380496&#45;&gt;138194202385488* -->\n<g id=\"edge9\" class=\"edge\">\n<title>138194202380496&#45;&gt;138194202385488*</title>\n<path fill=\"none\" stroke=\"black\" d=\"M163.94,-36.53C174.08,-39.65 184.37,-43.01 194,-46.5 204.27,-50.22 215.26,-54.8 225.09,-59.12\"/>\n<polygon fill=\"black\" stroke=\"black\" points=\"223.91,-62.43 234.47,-63.32 226.77,-56.04 223.91,-62.43\"/>\n</g>\n<!-- 138194202380496&#45;&gt;138194202385552+ -->\n<g id=\"edge6\" class=\"edge\">\n<title>138194202380496&#45;&gt;138194202385552+</title>\n<path fill=\"none\" stroke=\"black\" d=\"M191.74,-18.5C201.55,-18.5 211.04,-18.5 219.59,-18.5\"/>\n<polygon fill=\"black\" stroke=\"black\" points=\"219.87,-22 229.87,-18.5 219.87,-15 219.87,-22\"/>\n</g>\n</g>\n</svg>\n",
            "text/plain": [
              "<graphviz.graphs.Digraph at 0x7dafd857ea90>"
            ]
          },
          "metadata": {},
          "execution_count": 24
        }
      ],
      "source": [
        "a = Value(-2.0, label='a')\n",
        "b = Value(3.0, label='b')\n",
        "d = a * b    ; d.label = 'd'\n",
        "e = a + b    ; e.label = 'e'\n",
        "f = d * e    ; f.label = 'f'\n",
        "\n",
        "f.backward()\n",
        "\n",
        "draw_dot(f)"
      ]
    },
    {
      "cell_type": "code",
      "execution_count": 25,
      "metadata": {
        "id": "-_PlAPDs4lAY"
      },
      "outputs": [],
      "source": [
        "#continuing past visualization"
      ]
    },
    {
      "cell_type": "code",
      "execution_count": 26,
      "metadata": {
        "id": "D5jAP1204lAY"
      },
      "outputs": [],
      "source": [
        "# inputs x1,x2\n",
        "x1 = Value(2.0, label='x1')\n",
        "x2 = Value(0.0, label='x2')\n",
        "# weights w1,w2\n",
        "w1 = Value(-3.0, label='w1')\n",
        "w2 = Value(1.0, label='w2')\n",
        "# bias of the neuron\n",
        "b = Value(6.8813735870195432, label='b')\n",
        "# x1*w1 + x2*w2 + b\n",
        "x1w1 = x1*w1; x1w1.label = 'x1*w1'\n",
        "x2w2 = x2*w2; x2w2.label = 'x2*w2'\n",
        "x1w1x2w2 = x1w1 + x2w2; x1w1x2w2.label = 'x1*w1 + x2*w2'\n",
        "n = x1w1x2w2 + b; n.label = 'n'\n",
        "\n",
        "#-----\n",
        "#o = n.tanh()\n",
        "e = (2*n).exp()\n",
        "o = (e-1)/(e+1)\n",
        "#-----\n",
        "\n",
        "#instead of tanh we can use a different formula,\n",
        "#we have impliment exponent and dividing methods so we can do this\n",
        "\n",
        "\n",
        "\n",
        "o.label = 'o'"
      ]
    },
    {
      "cell_type": "code",
      "execution_count": null,
      "metadata": {
        "id": "8BfPb3dN4lAZ"
      },
      "outputs": [],
      "source": [
        "o.backward()"
      ]
    },
    {
      "cell_type": "code",
      "execution_count": null,
      "metadata": {
        "id": "L_mSPJJ_4lAZ",
        "outputId": "ee16b176-906d-4f5f-a206-5de926143b46"
      },
      "outputs": [
        {
          "data": {
            "image/svg+xml": [
              "<?xml version=\"1.0\" encoding=\"UTF-8\" standalone=\"no\"?>\n",
              "<!DOCTYPE svg PUBLIC \"-//W3C//DTD SVG 1.1//EN\"\n",
              " \"http://www.w3.org/Graphics/SVG/1.1/DTD/svg11.dtd\">\n",
              "<!-- Generated by graphviz version 12.2.0 (20241103.1931)\n",
              " -->\n",
              "<!-- Pages: 1 -->\n",
              "<svg width=\"2929pt\" height=\"239pt\"\n",
              " viewBox=\"0.00 0.00 2929.25 239.00\" xmlns=\"http://www.w3.org/2000/svg\" xmlns:xlink=\"http://www.w3.org/1999/xlink\">\n",
              "<g id=\"graph0\" class=\"graph\" transform=\"scale(1 1) rotate(0) translate(4 235)\">\n",
              "<polygon fill=\"white\" stroke=\"none\" points=\"-4,4 -4,-235 2925.25,-235 2925.25,4 -4,4\"/>\n",
              "<!-- 1627944073776 -->\n",
              "<g id=\"node1\" class=\"node\">\n",
              "<title>1627944073776</title>\n",
              "<polygon fill=\"none\" stroke=\"black\" points=\"1.5,-194.5 1.5,-230.5 196.5,-230.5 196.5,-194.5 1.5,-194.5\"/>\n",
              "<text text-anchor=\"middle\" x=\"16.25\" y=\"-207.7\" font-family=\"Times New Roman,serif\" font-size=\"14.00\">x1</text>\n",
              "<polyline fill=\"none\" stroke=\"black\" points=\"31,-195 31,-230.5\"/>\n",
              "<text text-anchor=\"middle\" x=\"70.88\" y=\"-207.7\" font-family=\"Times New Roman,serif\" font-size=\"14.00\">data 2.0000</text>\n",
              "<polyline fill=\"none\" stroke=\"black\" points=\"110.75,-195 110.75,-230.5\"/>\n",
              "<text text-anchor=\"middle\" x=\"153.62\" y=\"-207.7\" font-family=\"Times New Roman,serif\" font-size=\"14.00\">grad &#45;1.5000</text>\n",
              "</g>\n",
              "<!-- 1627944060816* -->\n",
              "<g id=\"node26\" class=\"node\">\n",
              "<title>1627944060816*</title>\n",
              "<ellipse fill=\"none\" stroke=\"black\" cx=\"261\" cy=\"-157.5\" rx=\"27\" ry=\"18\"/>\n",
              "<text text-anchor=\"middle\" x=\"261\" y=\"-152.45\" font-family=\"Times New Roman,serif\" font-size=\"14.00\">*</text>\n",
              "</g>\n",
              "<!-- 1627944073776&#45;&gt;1627944060816* -->\n",
              "<g id=\"edge12\" class=\"edge\">\n",
              "<title>1627944073776&#45;&gt;1627944060816*</title>\n",
              "<path fill=\"none\" stroke=\"black\" d=\"M172.12,-194.01C180.9,-191.35 189.7,-188.5 198,-185.5 208.09,-181.86 218.82,-177.27 228.47,-172.88\"/>\n",
              "<polygon fill=\"black\" stroke=\"black\" points=\"229.86,-176.09 237.45,-168.69 226.9,-169.75 229.86,-176.09\"/>\n",
              "</g>\n",
              "<!-- 1627944071232 -->\n",
              "<g id=\"node2\" class=\"node\">\n",
              "<title>1627944071232</title>\n",
              "<polygon fill=\"none\" stroke=\"black\" points=\"1681.5,-110.5 1681.5,-146.5 1866.75,-146.5 1866.75,-110.5 1681.5,-110.5\"/>\n",
              "<text text-anchor=\"middle\" x=\"1691.38\" y=\"-123.7\" font-family=\"Times New Roman,serif\" font-size=\"14.00\"> </text>\n",
              "<polyline fill=\"none\" stroke=\"black\" points=\"1701.25,-111 1701.25,-146.5\"/>\n",
              "<text text-anchor=\"middle\" x=\"1741.12\" y=\"-123.7\" font-family=\"Times New Roman,serif\" font-size=\"14.00\">data 1.0000</text>\n",
              "<polyline fill=\"none\" stroke=\"black\" points=\"1781,-111 1781,-146.5\"/>\n",
              "<text text-anchor=\"middle\" x=\"1823.88\" y=\"-123.7\" font-family=\"Times New Roman,serif\" font-size=\"14.00\">grad &#45;0.1036</text>\n",
              "</g>\n",
              "<!-- 1627944071280+ -->\n",
              "<g id=\"node16\" class=\"node\">\n",
              "<title>1627944071280+</title>\n",
              "<ellipse fill=\"none\" stroke=\"black\" cx=\"1929.75\" cy=\"-100.5\" rx=\"27\" ry=\"18\"/>\n",
              "<text text-anchor=\"middle\" x=\"1929.75\" y=\"-95.45\" font-family=\"Times New Roman,serif\" font-size=\"14.00\">+</text>\n",
              "</g>\n",
              "<!-- 1627944071232&#45;&gt;1627944071280+ -->\n",
              "<g id=\"edge25\" class=\"edge\">\n",
              "<title>1627944071232&#45;&gt;1627944071280+</title>\n",
              "<path fill=\"none\" stroke=\"black\" d=\"M1867.15,-111.73C1875.89,-110.13 1884.36,-108.59 1892.08,-107.18\"/>\n",
              "<polygon fill=\"black\" stroke=\"black\" points=\"1892.45,-110.67 1901.66,-105.44 1891.19,-103.79 1892.45,-110.67\"/>\n",
              "</g>\n",
              "<!-- 1627944070224 -->\n",
              "<g id=\"node3\" class=\"node\">\n",
              "<title>1627944070224</title>\n",
              "<polygon fill=\"none\" stroke=\"black\" points=\"0,-139.5 0,-175.5 198,-175.5 198,-139.5 0,-139.5\"/>\n",
              "<text text-anchor=\"middle\" x=\"16.25\" y=\"-152.7\" font-family=\"Times New Roman,serif\" font-size=\"14.00\">w1</text>\n",
              "<polyline fill=\"none\" stroke=\"black\" points=\"32.5,-140 32.5,-175.5\"/>\n",
              "<text text-anchor=\"middle\" x=\"74.62\" y=\"-152.7\" font-family=\"Times New Roman,serif\" font-size=\"14.00\">data &#45;3.0000</text>\n",
              "<polyline fill=\"none\" stroke=\"black\" points=\"116.75,-140 116.75,-175.5\"/>\n",
              "<text text-anchor=\"middle\" x=\"157.38\" y=\"-152.7\" font-family=\"Times New Roman,serif\" font-size=\"14.00\">grad 1.0000</text>\n",
              "</g>\n",
              "<!-- 1627944070224&#45;&gt;1627944060816* -->\n",
              "<g id=\"edge13\" class=\"edge\">\n",
              "<title>1627944070224&#45;&gt;1627944060816*</title>\n",
              "<path fill=\"none\" stroke=\"black\" d=\"M198.14,-157.5C206.61,-157.5 214.8,-157.5 222.29,-157.5\"/>\n",
              "<polygon fill=\"black\" stroke=\"black\" points=\"222.29,-161 232.29,-157.5 222.29,-154 222.29,-161\"/>\n",
              "</g>\n",
              "<!-- 1627944073824 -->\n",
              "<g id=\"node4\" class=\"node\">\n",
              "<title>1627944073824</title>\n",
              "<polygon fill=\"none\" stroke=\"black\" points=\"711.75,-56.5 711.75,-92.5 895.5,-92.5 895.5,-56.5 711.75,-56.5\"/>\n",
              "<text text-anchor=\"middle\" x=\"723.12\" y=\"-69.7\" font-family=\"Times New Roman,serif\" font-size=\"14.00\">b</text>\n",
              "<polyline fill=\"none\" stroke=\"black\" points=\"734.5,-57 734.5,-92.5\"/>\n",
              "<text text-anchor=\"middle\" x=\"774.38\" y=\"-69.7\" font-family=\"Times New Roman,serif\" font-size=\"14.00\">data 6.8814</text>\n",
              "<polyline fill=\"none\" stroke=\"black\" points=\"814.25,-57 814.25,-92.5\"/>\n",
              "<text text-anchor=\"middle\" x=\"854.88\" y=\"-69.7\" font-family=\"Times New Roman,serif\" font-size=\"14.00\">grad 0.5000</text>\n",
              "</g>\n",
              "<!-- 1627944063792+ -->\n",
              "<g id=\"node20\" class=\"node\">\n",
              "<title>1627944063792+</title>\n",
              "<ellipse fill=\"none\" stroke=\"black\" cx=\"1002\" cy=\"-101.5\" rx=\"27\" ry=\"18\"/>\n",
              "<text text-anchor=\"middle\" x=\"1002\" y=\"-96.45\" font-family=\"Times New Roman,serif\" font-size=\"14.00\">+</text>\n",
              "</g>\n",
              "<!-- 1627944073824&#45;&gt;1627944063792+ -->\n",
              "<g id=\"edge14\" class=\"edge\">\n",
              "<title>1627944073824&#45;&gt;1627944063792+</title>\n",
              "<path fill=\"none\" stroke=\"black\" d=\"M895.91,-87.05C919.97,-90.36 944.58,-93.74 963.93,-96.4\"/>\n",
              "<polygon fill=\"black\" stroke=\"black\" points=\"963.36,-99.86 973.75,-97.75 964.32,-92.92 963.36,-99.86\"/>\n",
              "</g>\n",
              "<!-- 1627944060528 -->\n",
              "<g id=\"node5\" class=\"node\">\n",
              "<title>1627944060528</title>\n",
              "<polygon fill=\"none\" stroke=\"black\" points=\"1066.5,-28.5 1066.5,-64.5 1247.25,-64.5 1247.25,-28.5 1066.5,-28.5\"/>\n",
              "<text text-anchor=\"middle\" x=\"1076.38\" y=\"-41.7\" font-family=\"Times New Roman,serif\" font-size=\"14.00\"> </text>\n",
              "<polyline fill=\"none\" stroke=\"black\" points=\"1086.25,-29 1086.25,-64.5\"/>\n",
              "<text text-anchor=\"middle\" x=\"1126.12\" y=\"-41.7\" font-family=\"Times New Roman,serif\" font-size=\"14.00\">data 2.0000</text>\n",
              "<polyline fill=\"none\" stroke=\"black\" points=\"1166,-29 1166,-64.5\"/>\n",
              "<text text-anchor=\"middle\" x=\"1206.62\" y=\"-41.7\" font-family=\"Times New Roman,serif\" font-size=\"14.00\">grad 0.2203</text>\n",
              "</g>\n",
              "<!-- 1627944069792* -->\n",
              "<g id=\"node10\" class=\"node\">\n",
              "<title>1627944069792*</title>\n",
              "<ellipse fill=\"none\" stroke=\"black\" cx=\"1311.75\" cy=\"-73.5\" rx=\"27\" ry=\"18\"/>\n",
              "<text text-anchor=\"middle\" x=\"1311.75\" y=\"-68.45\" font-family=\"Times New Roman,serif\" font-size=\"14.00\">*</text>\n",
              "</g>\n",
              "<!-- 1627944060528&#45;&gt;1627944069792* -->\n",
              "<g id=\"edge26\" class=\"edge\">\n",
              "<title>1627944060528&#45;&gt;1627944069792*</title>\n",
              "<path fill=\"none\" stroke=\"black\" d=\"M1247.69,-62.36C1256.94,-64 1265.93,-65.58 1274.08,-67.02\"/>\n",
              "<polygon fill=\"black\" stroke=\"black\" points=\"1273.41,-70.46 1283.87,-68.75 1274.63,-63.57 1273.41,-70.46\"/>\n",
              "</g>\n",
              "<!-- 1627944070272 -->\n",
              "<g id=\"node6\" class=\"node\">\n",
              "<title>1627944070272</title>\n",
              "<polygon fill=\"none\" stroke=\"black\" points=\"2.25,-84.5 2.25,-120.5 195.75,-120.5 195.75,-84.5 2.25,-84.5\"/>\n",
              "<text text-anchor=\"middle\" x=\"18.5\" y=\"-97.7\" font-family=\"Times New Roman,serif\" font-size=\"14.00\">w2</text>\n",
              "<polyline fill=\"none\" stroke=\"black\" points=\"34.75,-85 34.75,-120.5\"/>\n",
              "<text text-anchor=\"middle\" x=\"74.62\" y=\"-97.7\" font-family=\"Times New Roman,serif\" font-size=\"14.00\">data 1.0000</text>\n",
              "<polyline fill=\"none\" stroke=\"black\" points=\"114.5,-85 114.5,-120.5\"/>\n",
              "<text text-anchor=\"middle\" x=\"155.12\" y=\"-97.7\" font-family=\"Times New Roman,serif\" font-size=\"14.00\">grad 0.0000</text>\n",
              "</g>\n",
              "<!-- 1627944063744* -->\n",
              "<g id=\"node18\" class=\"node\">\n",
              "<title>1627944063744*</title>\n",
              "<ellipse fill=\"none\" stroke=\"black\" cx=\"261\" cy=\"-102.5\" rx=\"27\" ry=\"18\"/>\n",
              "<text text-anchor=\"middle\" x=\"261\" y=\"-97.45\" font-family=\"Times New Roman,serif\" font-size=\"14.00\">*</text>\n",
              "</g>\n",
              "<!-- 1627944070272&#45;&gt;1627944063744* -->\n",
              "<g id=\"edge16\" class=\"edge\">\n",
              "<title>1627944070272&#45;&gt;1627944063744*</title>\n",
              "<path fill=\"none\" stroke=\"black\" d=\"M195.84,-102.5C205.14,-102.5 214.15,-102.5 222.32,-102.5\"/>\n",
              "<polygon fill=\"black\" stroke=\"black\" points=\"222.13,-106 232.13,-102.5 222.13,-99 222.13,-106\"/>\n",
              "</g>\n",
              "<!-- 1627944070800 -->\n",
              "<g id=\"node7\" class=\"node\">\n",
              "<title>1627944070800</title>\n",
              "<polygon fill=\"none\" stroke=\"black\" points=\"1683.75,-55.5 1683.75,-91.5 1864.5,-91.5 1864.5,-55.5 1683.75,-55.5\"/>\n",
              "<text text-anchor=\"middle\" x=\"1693.62\" y=\"-68.7\" font-family=\"Times New Roman,serif\" font-size=\"14.00\"> </text>\n",
              "<polyline fill=\"none\" stroke=\"black\" points=\"1703.5,-56 1703.5,-91.5\"/>\n",
              "<text text-anchor=\"middle\" x=\"1743.38\" y=\"-68.7\" font-family=\"Times New Roman,serif\" font-size=\"14.00\">data 5.8284</text>\n",
              "<polyline fill=\"none\" stroke=\"black\" points=\"1783.25,-56 1783.25,-91.5\"/>\n",
              "<text text-anchor=\"middle\" x=\"1823.88\" y=\"-68.7\" font-family=\"Times New Roman,serif\" font-size=\"14.00\">grad 0.0429</text>\n",
              "</g>\n",
              "<!-- 1627944070800&#45;&gt;1627944071280+ -->\n",
              "<g id=\"edge17\" class=\"edge\">\n",
              "<title>1627944070800&#45;&gt;1627944071280+</title>\n",
              "<path fill=\"none\" stroke=\"black\" d=\"M1864.93,-89.28C1874.48,-90.96 1883.76,-92.59 1892.14,-94.07\"/>\n",
              "<polygon fill=\"black\" stroke=\"black\" points=\"1891.39,-97.49 1901.85,-95.77 1892.61,-90.59 1891.39,-97.49\"/>\n",
              "</g>\n",
              "<!-- 1627944071040+ -->\n",
              "<g id=\"node24\" class=\"node\">\n",
              "<title>1627944071040+</title>\n",
              "<ellipse fill=\"none\" stroke=\"black\" cx=\"1929.75\" cy=\"-45.5\" rx=\"27\" ry=\"18\"/>\n",
              "<text text-anchor=\"middle\" x=\"1929.75\" y=\"-40.45\" font-family=\"Times New Roman,serif\" font-size=\"14.00\">+</text>\n",
              "</g>\n",
              "<!-- 1627944070800&#45;&gt;1627944071040+ -->\n",
              "<g id=\"edge23\" class=\"edge\">\n",
              "<title>1627944070800&#45;&gt;1627944071040+</title>\n",
              "<path fill=\"none\" stroke=\"black\" d=\"M1864.93,-57.13C1874.48,-55.39 1883.76,-53.7 1892.14,-52.17\"/>\n",
              "<polygon fill=\"black\" stroke=\"black\" points=\"1892.64,-55.64 1901.85,-50.4 1891.39,-48.75 1892.64,-55.64\"/>\n",
              "</g>\n",
              "<!-- 1627944070800exp -->\n",
              "<g id=\"node8\" class=\"node\">\n",
              "<title>1627944070800exp</title>\n",
              "<ellipse fill=\"none\" stroke=\"black\" cx=\"1618.5\" cy=\"-73.5\" rx=\"27\" ry=\"18\"/>\n",
              "<text text-anchor=\"middle\" x=\"1618.5\" y=\"-68.45\" font-family=\"Times New Roman,serif\" font-size=\"14.00\">exp</text>\n",
              "</g>\n",
              "<!-- 1627944070800exp&#45;&gt;1627944070800 -->\n",
              "<g id=\"edge1\" class=\"edge\">\n",
              "<title>1627944070800exp&#45;&gt;1627944070800</title>\n",
              "<path fill=\"none\" stroke=\"black\" d=\"M1645.91,-73.5C1653.62,-73.5 1662.54,-73.5 1672.01,-73.5\"/>\n",
              "<polygon fill=\"black\" stroke=\"black\" points=\"1671.82,-77 1681.82,-73.5 1671.82,-70 1671.82,-77\"/>\n",
              "</g>\n",
              "<!-- 1627944069792 -->\n",
              "<g id=\"node9\" class=\"node\">\n",
              "<title>1627944069792</title>\n",
              "<polygon fill=\"none\" stroke=\"black\" points=\"1374.75,-55.5 1374.75,-91.5 1555.5,-91.5 1555.5,-55.5 1374.75,-55.5\"/>\n",
              "<text text-anchor=\"middle\" x=\"1384.62\" y=\"-68.7\" font-family=\"Times New Roman,serif\" font-size=\"14.00\"> </text>\n",
              "<polyline fill=\"none\" stroke=\"black\" points=\"1394.5,-56 1394.5,-91.5\"/>\n",
              "<text text-anchor=\"middle\" x=\"1434.38\" y=\"-68.7\" font-family=\"Times New Roman,serif\" font-size=\"14.00\">data 1.7627</text>\n",
              "<polyline fill=\"none\" stroke=\"black\" points=\"1474.25,-56 1474.25,-91.5\"/>\n",
              "<text text-anchor=\"middle\" x=\"1514.88\" y=\"-68.7\" font-family=\"Times New Roman,serif\" font-size=\"14.00\">grad 0.2500</text>\n",
              "</g>\n",
              "<!-- 1627944069792&#45;&gt;1627944070800exp -->\n",
              "<g id=\"edge18\" class=\"edge\">\n",
              "<title>1627944069792&#45;&gt;1627944070800exp</title>\n",
              "<path fill=\"none\" stroke=\"black\" d=\"M1555.93,-73.5C1564.27,-73.5 1572.37,-73.5 1579.81,-73.5\"/>\n",
              "<polygon fill=\"black\" stroke=\"black\" points=\"1579.75,-77 1589.75,-73.5 1579.75,-70 1579.75,-77\"/>\n",
              "</g>\n",
              "<!-- 1627944069792*&#45;&gt;1627944069792 -->\n",
              "<g id=\"edge2\" class=\"edge\">\n",
              "<title>1627944069792*&#45;&gt;1627944069792</title>\n",
              "<path fill=\"none\" stroke=\"black\" d=\"M1339.12,-73.5C1346.26,-73.5 1354.45,-73.5 1363.14,-73.5\"/>\n",
              "<polygon fill=\"black\" stroke=\"black\" points=\"1362.86,-77 1372.86,-73.5 1362.86,-70 1362.86,-77\"/>\n",
              "</g>\n",
              "<!-- 1627944065184 -->\n",
              "<g id=\"node11\" class=\"node\">\n",
              "<title>1627944065184</title>\n",
              "<polygon fill=\"none\" stroke=\"black\" points=\"668.25,-111.5 668.25,-147.5 939,-147.5 939,-111.5 668.25,-111.5\"/>\n",
              "<text text-anchor=\"middle\" x=\"720.88\" y=\"-124.7\" font-family=\"Times New Roman,serif\" font-size=\"14.00\">x1*w1 + x2*w2</text>\n",
              "<polyline fill=\"none\" stroke=\"black\" points=\"773.5,-112 773.5,-147.5\"/>\n",
              "<text text-anchor=\"middle\" x=\"815.62\" y=\"-124.7\" font-family=\"Times New Roman,serif\" font-size=\"14.00\">data &#45;6.0000</text>\n",
              "<polyline fill=\"none\" stroke=\"black\" points=\"857.75,-112 857.75,-147.5\"/>\n",
              "<text text-anchor=\"middle\" x=\"898.38\" y=\"-124.7\" font-family=\"Times New Roman,serif\" font-size=\"14.00\">grad 0.5000</text>\n",
              "</g>\n",
              "<!-- 1627944065184&#45;&gt;1627944063792+ -->\n",
              "<g id=\"edge19\" class=\"edge\">\n",
              "<title>1627944065184&#45;&gt;1627944063792+</title>\n",
              "<path fill=\"none\" stroke=\"black\" d=\"M934.24,-111.02C944.99,-109.49 955.18,-108.03 964.21,-106.75\"/>\n",
              "<polygon fill=\"black\" stroke=\"black\" points=\"964.46,-110.25 973.86,-105.37 963.47,-103.32 964.46,-110.25\"/>\n",
              "</g>\n",
              "<!-- 1627944065184+ -->\n",
              "<g id=\"node12\" class=\"node\">\n",
              "<title>1627944065184+</title>\n",
              "<ellipse fill=\"none\" stroke=\"black\" cx=\"605.25\" cy=\"-129.5\" rx=\"27\" ry=\"18\"/>\n",
              "<text text-anchor=\"middle\" x=\"605.25\" y=\"-124.45\" font-family=\"Times New Roman,serif\" font-size=\"14.00\">+</text>\n",
              "</g>\n",
              "<!-- 1627944065184+&#45;&gt;1627944065184 -->\n",
              "<g id=\"edge3\" class=\"edge\">\n",
              "<title>1627944065184+&#45;&gt;1627944065184</title>\n",
              "<path fill=\"none\" stroke=\"black\" d=\"M632.73,-129.5C639.73,-129.5 647.79,-129.5 656.52,-129.5\"/>\n",
              "<polygon fill=\"black\" stroke=\"black\" points=\"656.39,-133 666.39,-129.5 656.39,-126 656.39,-133\"/>\n",
              "</g>\n",
              "<!-- 1627944072816 -->\n",
              "<g id=\"node13\" class=\"node\">\n",
              "<title>1627944072816</title>\n",
              "<polygon fill=\"none\" stroke=\"black\" points=\"2430.75,-80.5 2430.75,-116.5 2611.5,-116.5 2611.5,-80.5 2430.75,-80.5\"/>\n",
              "<text text-anchor=\"middle\" x=\"2440.62\" y=\"-93.7\" font-family=\"Times New Roman,serif\" font-size=\"14.00\"> </text>\n",
              "<polyline fill=\"none\" stroke=\"black\" points=\"2450.5,-81 2450.5,-116.5\"/>\n",
              "<text text-anchor=\"middle\" x=\"2490.38\" y=\"-93.7\" font-family=\"Times New Roman,serif\" font-size=\"14.00\">data 0.1464</text>\n",
              "<polyline fill=\"none\" stroke=\"black\" points=\"2530.25,-81 2530.25,-116.5\"/>\n",
              "<text text-anchor=\"middle\" x=\"2570.88\" y=\"-93.7\" font-family=\"Times New Roman,serif\" font-size=\"14.00\">grad 4.8284</text>\n",
              "</g>\n",
              "<!-- 1627944072624* -->\n",
              "<g id=\"node28\" class=\"node\">\n",
              "<title>1627944072624*</title>\n",
              "<ellipse fill=\"none\" stroke=\"black\" cx=\"2674.5\" cy=\"-72.5\" rx=\"27\" ry=\"18\"/>\n",
              "<text text-anchor=\"middle\" x=\"2674.5\" y=\"-67.45\" font-family=\"Times New Roman,serif\" font-size=\"14.00\">*</text>\n",
              "</g>\n",
              "<!-- 1627944072816&#45;&gt;1627944072624* -->\n",
              "<g id=\"edge24\" class=\"edge\">\n",
              "<title>1627944072816&#45;&gt;1627944072624*</title>\n",
              "<path fill=\"none\" stroke=\"black\" d=\"M2611.93,-83.08C2620.54,-81.6 2628.89,-80.16 2636.53,-78.85\"/>\n",
              "<polygon fill=\"black\" stroke=\"black\" points=\"2637.11,-82.3 2646.37,-77.16 2635.92,-75.4 2637.11,-82.3\"/>\n",
              "</g>\n",
              "<!-- 1627944072816**&#45;1 -->\n",
              "<g id=\"node14\" class=\"node\">\n",
              "<title>1627944072816**&#45;1</title>\n",
              "<ellipse fill=\"none\" stroke=\"black\" cx=\"2304.38\" cy=\"-100.5\" rx=\"27.81\" ry=\"18\"/>\n",
              "<text text-anchor=\"middle\" x=\"2304.38\" y=\"-95.45\" font-family=\"Times New Roman,serif\" font-size=\"14.00\">**&#45;1</text>\n",
              "</g>\n",
              "<!-- 1627944072816**&#45;1&#45;&gt;1627944072816 -->\n",
              "<g id=\"edge4\" class=\"edge\">\n",
              "<title>1627944072816**&#45;1&#45;&gt;1627944072816</title>\n",
              "<path fill=\"none\" stroke=\"black\" d=\"M2332.57,-100.25C2354.68,-100.04 2387.33,-99.74 2419.22,-99.44\"/>\n",
              "<polygon fill=\"black\" stroke=\"black\" points=\"2418.96,-102.94 2428.93,-99.35 2418.9,-95.94 2418.96,-102.94\"/>\n",
              "</g>\n",
              "<!-- 1627944071280 -->\n",
              "<g id=\"node15\" class=\"node\">\n",
              "<title>1627944071280</title>\n",
              "<polygon fill=\"none\" stroke=\"black\" points=\"1992.75,-82.5 1992.75,-118.5 2178,-118.5 2178,-82.5 1992.75,-82.5\"/>\n",
              "<text text-anchor=\"middle\" x=\"2002.62\" y=\"-95.7\" font-family=\"Times New Roman,serif\" font-size=\"14.00\"> </text>\n",
              "<polyline fill=\"none\" stroke=\"black\" points=\"2012.5,-83 2012.5,-118.5\"/>\n",
              "<text text-anchor=\"middle\" x=\"2052.38\" y=\"-95.7\" font-family=\"Times New Roman,serif\" font-size=\"14.00\">data 6.8284</text>\n",
              "<polyline fill=\"none\" stroke=\"black\" points=\"2092.25,-83 2092.25,-118.5\"/>\n",
              "<text text-anchor=\"middle\" x=\"2135.12\" y=\"-95.7\" font-family=\"Times New Roman,serif\" font-size=\"14.00\">grad &#45;0.1036</text>\n",
              "</g>\n",
              "<!-- 1627944071280&#45;&gt;1627944072816**&#45;1 -->\n",
              "<g id=\"edge11\" class=\"edge\">\n",
              "<title>1627944071280&#45;&gt;1627944072816**&#45;1</title>\n",
              "<path fill=\"none\" stroke=\"black\" d=\"M2178.4,-100.5C2208.64,-100.5 2240.63,-100.5 2264.67,-100.5\"/>\n",
              "<polygon fill=\"black\" stroke=\"black\" points=\"2264.62,-104 2274.62,-100.5 2264.62,-97 2264.62,-104\"/>\n",
              "</g>\n",
              "<!-- 1627944071280+&#45;&gt;1627944071280 -->\n",
              "<g id=\"edge5\" class=\"edge\">\n",
              "<title>1627944071280+&#45;&gt;1627944071280</title>\n",
              "<path fill=\"none\" stroke=\"black\" d=\"M1957.16,-100.5C1964.2,-100.5 1972.25,-100.5 1980.8,-100.5\"/>\n",
              "<polygon fill=\"black\" stroke=\"black\" points=\"1980.79,-104 1990.79,-100.5 1980.79,-97 1980.79,-104\"/>\n",
              "</g>\n",
              "<!-- 1627944063744 -->\n",
              "<g id=\"node17\" class=\"node\">\n",
              "<title>1627944063744</title>\n",
              "<polygon fill=\"none\" stroke=\"black\" points=\"326.25,-84.5 326.25,-120.5 540,-120.5 540,-84.5 326.25,-84.5\"/>\n",
              "<text text-anchor=\"middle\" x=\"352.62\" y=\"-97.7\" font-family=\"Times New Roman,serif\" font-size=\"14.00\">x2*w2</text>\n",
              "<polyline fill=\"none\" stroke=\"black\" points=\"379,-85 379,-120.5\"/>\n",
              "<text text-anchor=\"middle\" x=\"418.88\" y=\"-97.7\" font-family=\"Times New Roman,serif\" font-size=\"14.00\">data 0.0000</text>\n",
              "<polyline fill=\"none\" stroke=\"black\" points=\"458.75,-85 458.75,-120.5\"/>\n",
              "<text text-anchor=\"middle\" x=\"499.38\" y=\"-97.7\" font-family=\"Times New Roman,serif\" font-size=\"14.00\">grad 0.5000</text>\n",
              "</g>\n",
              "<!-- 1627944063744&#45;&gt;1627944065184+ -->\n",
              "<g id=\"edge15\" class=\"edge\">\n",
              "<title>1627944063744&#45;&gt;1627944065184+</title>\n",
              "<path fill=\"none\" stroke=\"black\" d=\"M540.42,-119.37C549.89,-120.87 559,-122.32 567.21,-123.62\"/>\n",
              "<polygon fill=\"black\" stroke=\"black\" points=\"566.63,-127.07 577.05,-125.18 567.72,-120.16 566.63,-127.07\"/>\n",
              "</g>\n",
              "<!-- 1627944063744*&#45;&gt;1627944063744 -->\n",
              "<g id=\"edge6\" class=\"edge\">\n",
              "<title>1627944063744*&#45;&gt;1627944063744</title>\n",
              "<path fill=\"none\" stroke=\"black\" d=\"M288.21,-102.5C296,-102.5 305.08,-102.5 314.82,-102.5\"/>\n",
              "<polygon fill=\"black\" stroke=\"black\" points=\"314.55,-106 324.55,-102.5 314.55,-99 314.55,-106\"/>\n",
              "</g>\n",
              "<!-- 1627944063792 -->\n",
              "<g id=\"node19\" class=\"node\">\n",
              "<title>1627944063792</title>\n",
              "<polygon fill=\"none\" stroke=\"black\" points=\"1065,-83.5 1065,-119.5 1248.75,-119.5 1248.75,-83.5 1065,-83.5\"/>\n",
              "<text text-anchor=\"middle\" x=\"1076.38\" y=\"-96.7\" font-family=\"Times New Roman,serif\" font-size=\"14.00\">n</text>\n",
              "<polyline fill=\"none\" stroke=\"black\" points=\"1087.75,-84 1087.75,-119.5\"/>\n",
              "<text text-anchor=\"middle\" x=\"1127.62\" y=\"-96.7\" font-family=\"Times New Roman,serif\" font-size=\"14.00\">data 0.8814</text>\n",
              "<polyline fill=\"none\" stroke=\"black\" points=\"1167.5,-84 1167.5,-119.5\"/>\n",
              "<text text-anchor=\"middle\" x=\"1208.12\" y=\"-96.7\" font-family=\"Times New Roman,serif\" font-size=\"14.00\">grad 0.5000</text>\n",
              "</g>\n",
              "<!-- 1627944063792&#45;&gt;1627944069792* -->\n",
              "<g id=\"edge27\" class=\"edge\">\n",
              "<title>1627944063792&#45;&gt;1627944069792*</title>\n",
              "<path fill=\"none\" stroke=\"black\" d=\"M1249.01,-84.81C1257.84,-83.19 1266.4,-81.62 1274.19,-80.2\"/>\n",
              "<polygon fill=\"black\" stroke=\"black\" points=\"1274.67,-83.67 1283.88,-78.42 1273.41,-76.78 1274.67,-83.67\"/>\n",
              "</g>\n",
              "<!-- 1627944063792+&#45;&gt;1627944063792 -->\n",
              "<g id=\"edge7\" class=\"edge\">\n",
              "<title>1627944063792+&#45;&gt;1627944063792</title>\n",
              "<path fill=\"none\" stroke=\"black\" d=\"M1029.28,-101.5C1036.42,-101.5 1044.61,-101.5 1053.32,-101.5\"/>\n",
              "<polygon fill=\"black\" stroke=\"black\" points=\"1053.06,-105 1063.06,-101.5 1053.06,-98 1053.06,-105\"/>\n",
              "</g>\n",
              "<!-- 1627944074064 -->\n",
              "<g id=\"node21\" class=\"node\">\n",
              "<title>1627944074064</title>\n",
              "<polygon fill=\"none\" stroke=\"black\" points=\"3.75,-29.5 3.75,-65.5 194.25,-65.5 194.25,-29.5 3.75,-29.5\"/>\n",
              "<text text-anchor=\"middle\" x=\"18.5\" y=\"-42.7\" font-family=\"Times New Roman,serif\" font-size=\"14.00\">x2</text>\n",
              "<polyline fill=\"none\" stroke=\"black\" points=\"33.25,-30 33.25,-65.5\"/>\n",
              "<text text-anchor=\"middle\" x=\"73.12\" y=\"-42.7\" font-family=\"Times New Roman,serif\" font-size=\"14.00\">data 0.0000</text>\n",
              "<polyline fill=\"none\" stroke=\"black\" points=\"113,-30 113,-65.5\"/>\n",
              "<text text-anchor=\"middle\" x=\"153.62\" y=\"-42.7\" font-family=\"Times New Roman,serif\" font-size=\"14.00\">grad 0.5000</text>\n",
              "</g>\n",
              "<!-- 1627944074064&#45;&gt;1627944063744* -->\n",
              "<g id=\"edge20\" class=\"edge\">\n",
              "<title>1627944074064&#45;&gt;1627944063744*</title>\n",
              "<path fill=\"none\" stroke=\"black\" d=\"M168.91,-65.94C178.74,-68.93 188.67,-72.15 198,-75.5 207.96,-79.07 218.58,-83.47 228.18,-87.68\"/>\n",
              "<polygon fill=\"black\" stroke=\"black\" points=\"226.54,-90.78 237.1,-91.67 229.4,-84.39 226.54,-90.78\"/>\n",
              "</g>\n",
              "<!-- 1627944070992 -->\n",
              "<g id=\"node22\" class=\"node\">\n",
              "<title>1627944070992</title>\n",
              "<polygon fill=\"none\" stroke=\"black\" points=\"1681.5,-0.5 1681.5,-36.5 1866.75,-36.5 1866.75,-0.5 1681.5,-0.5\"/>\n",
              "<text text-anchor=\"middle\" x=\"1691.38\" y=\"-13.7\" font-family=\"Times New Roman,serif\" font-size=\"14.00\"> </text>\n",
              "<polyline fill=\"none\" stroke=\"black\" points=\"1701.25,-1 1701.25,-36.5\"/>\n",
              "<text text-anchor=\"middle\" x=\"1743.38\" y=\"-13.7\" font-family=\"Times New Roman,serif\" font-size=\"14.00\">data &#45;1.0000</text>\n",
              "<polyline fill=\"none\" stroke=\"black\" points=\"1785.5,-1 1785.5,-36.5\"/>\n",
              "<text text-anchor=\"middle\" x=\"1826.12\" y=\"-13.7\" font-family=\"Times New Roman,serif\" font-size=\"14.00\">grad 0.1464</text>\n",
              "</g>\n",
              "<!-- 1627944070992&#45;&gt;1627944071040+ -->\n",
              "<g id=\"edge22\" class=\"edge\">\n",
              "<title>1627944070992&#45;&gt;1627944071040+</title>\n",
              "<path fill=\"none\" stroke=\"black\" d=\"M1867.15,-34.67C1875.89,-36.21 1884.36,-37.7 1892.08,-39.05\"/>\n",
              "<polygon fill=\"black\" stroke=\"black\" points=\"1891.2,-42.45 1901.66,-40.74 1892.41,-35.56 1891.2,-42.45\"/>\n",
              "</g>\n",
              "<!-- 1627944071040 -->\n",
              "<g id=\"node23\" class=\"node\">\n",
              "<title>1627944071040</title>\n",
              "<polygon fill=\"none\" stroke=\"black\" points=\"2214,-27.5 2214,-63.5 2394.75,-63.5 2394.75,-27.5 2214,-27.5\"/>\n",
              "<text text-anchor=\"middle\" x=\"2223.88\" y=\"-40.7\" font-family=\"Times New Roman,serif\" font-size=\"14.00\"> </text>\n",
              "<polyline fill=\"none\" stroke=\"black\" points=\"2233.75,-28 2233.75,-63.5\"/>\n",
              "<text text-anchor=\"middle\" x=\"2273.62\" y=\"-40.7\" font-family=\"Times New Roman,serif\" font-size=\"14.00\">data 4.8284</text>\n",
              "<polyline fill=\"none\" stroke=\"black\" points=\"2313.5,-28 2313.5,-63.5\"/>\n",
              "<text text-anchor=\"middle\" x=\"2354.12\" y=\"-40.7\" font-family=\"Times New Roman,serif\" font-size=\"14.00\">grad 0.1464</text>\n",
              "</g>\n",
              "<!-- 1627944071040&#45;&gt;1627944072624* -->\n",
              "<g id=\"edge28\" class=\"edge\">\n",
              "<title>1627944071040&#45;&gt;1627944072624*</title>\n",
              "<path fill=\"none\" stroke=\"black\" d=\"M2394.96,-52.07C2472.25,-57.74 2580.03,-65.64 2636.17,-69.76\"/>\n",
              "<polygon fill=\"black\" stroke=\"black\" points=\"2635.59,-73.23 2645.82,-70.47 2636.1,-66.25 2635.59,-73.23\"/>\n",
              "</g>\n",
              "<!-- 1627944071040+&#45;&gt;1627944071040 -->\n",
              "<g id=\"edge8\" class=\"edge\">\n",
              "<title>1627944071040+&#45;&gt;1627944071040</title>\n",
              "<path fill=\"none\" stroke=\"black\" d=\"M1957.25,-45.5C2007.51,-45.5 2119.07,-45.5 2202.03,-45.5\"/>\n",
              "<polygon fill=\"black\" stroke=\"black\" points=\"2202.02,-49 2212.02,-45.5 2202.02,-42 2202.02,-49\"/>\n",
              "</g>\n",
              "<!-- 1627944060816 -->\n",
              "<g id=\"node25\" class=\"node\">\n",
              "<title>1627944060816</title>\n",
              "<polygon fill=\"none\" stroke=\"black\" points=\"324,-139.5 324,-175.5 542.25,-175.5 542.25,-139.5 324,-139.5\"/>\n",
              "<text text-anchor=\"middle\" x=\"350.38\" y=\"-152.7\" font-family=\"Times New Roman,serif\" font-size=\"14.00\">x1*w1</text>\n",
              "<polyline fill=\"none\" stroke=\"black\" points=\"376.75,-140 376.75,-175.5\"/>\n",
              "<text text-anchor=\"middle\" x=\"418.88\" y=\"-152.7\" font-family=\"Times New Roman,serif\" font-size=\"14.00\">data &#45;6.0000</text>\n",
              "<polyline fill=\"none\" stroke=\"black\" points=\"461,-140 461,-175.5\"/>\n",
              "<text text-anchor=\"middle\" x=\"501.62\" y=\"-152.7\" font-family=\"Times New Roman,serif\" font-size=\"14.00\">grad 0.5000</text>\n",
              "</g>\n",
              "<!-- 1627944060816&#45;&gt;1627944065184+ -->\n",
              "<g id=\"edge21\" class=\"edge\">\n",
              "<title>1627944060816&#45;&gt;1627944065184+</title>\n",
              "<path fill=\"none\" stroke=\"black\" d=\"M542.35,-139.69C551.12,-138.24 559.54,-136.86 567.19,-135.6\"/>\n",
              "<polygon fill=\"black\" stroke=\"black\" points=\"567.72,-139.06 577.02,-133.98 566.58,-132.15 567.72,-139.06\"/>\n",
              "</g>\n",
              "<!-- 1627944060816*&#45;&gt;1627944060816 -->\n",
              "<g id=\"edge9\" class=\"edge\">\n",
              "<title>1627944060816*&#45;&gt;1627944060816</title>\n",
              "<path fill=\"none\" stroke=\"black\" d=\"M288.21,-157.5C295.29,-157.5 303.43,-157.5 312.17,-157.5\"/>\n",
              "<polygon fill=\"black\" stroke=\"black\" points=\"312.01,-161 322.01,-157.5 312.01,-154 312.01,-161\"/>\n",
              "</g>\n",
              "<!-- 1627944072624 -->\n",
              "<g id=\"node27\" class=\"node\">\n",
              "<title>1627944072624</title>\n",
              "<polygon fill=\"none\" stroke=\"black\" points=\"2737.5,-54.5 2737.5,-90.5 2921.25,-90.5 2921.25,-54.5 2737.5,-54.5\"/>\n",
              "<text text-anchor=\"middle\" x=\"2748.88\" y=\"-67.7\" font-family=\"Times New Roman,serif\" font-size=\"14.00\">o</text>\n",
              "<polyline fill=\"none\" stroke=\"black\" points=\"2760.25,-55 2760.25,-90.5\"/>\n",
              "<text text-anchor=\"middle\" x=\"2800.12\" y=\"-67.7\" font-family=\"Times New Roman,serif\" font-size=\"14.00\">data 0.7071</text>\n",
              "<polyline fill=\"none\" stroke=\"black\" points=\"2840,-55 2840,-90.5\"/>\n",
              "<text text-anchor=\"middle\" x=\"2880.62\" y=\"-67.7\" font-family=\"Times New Roman,serif\" font-size=\"14.00\">grad 1.0000</text>\n",
              "</g>\n",
              "<!-- 1627944072624*&#45;&gt;1627944072624 -->\n",
              "<g id=\"edge10\" class=\"edge\">\n",
              "<title>1627944072624*&#45;&gt;1627944072624</title>\n",
              "<path fill=\"none\" stroke=\"black\" d=\"M2701.78,-72.5C2708.92,-72.5 2717.11,-72.5 2725.82,-72.5\"/>\n",
              "<polygon fill=\"black\" stroke=\"black\" points=\"2725.56,-76 2735.56,-72.5 2725.56,-69 2725.56,-76\"/>\n",
              "</g>\n",
              "</g>\n",
              "</svg>\n"
            ],
            "text/plain": [
              "<graphviz.graphs.Digraph at 0x17b0904fb80>"
            ]
          },
          "execution_count": 32,
          "metadata": {},
          "output_type": "execute_result"
        }
      ],
      "source": [
        "draw_dot(o)"
      ]
    },
    {
      "cell_type": "code",
      "execution_count": null,
      "metadata": {
        "id": "_J9Jekuy4lAZ"
      },
      "outputs": [],
      "source": [
        "import torch"
      ]
    },
    {
      "cell_type": "code",
      "execution_count": null,
      "metadata": {
        "id": "oZE4pRu74lAa",
        "outputId": "7454d72f-5d2c-45cb-99ef-a532bce24b4f"
      },
      "outputs": [
        {
          "name": "stdout",
          "output_type": "stream",
          "text": [
            "0.7071066904050358\n",
            "---\n",
            "x2 0.5000001283844369\n",
            "w2 0.0\n",
            "x1 -1.5000003851533106\n",
            "w1 1.0000002567688737\n"
          ]
        }
      ],
      "source": [
        "# python defaults to float32 precision\n",
        "# , setting to double here\n",
        "\n",
        "# this demo in pytorch is doing what this project is emulating\n",
        "\n",
        "x1 = torch.Tensor([2.0]).double()                ; x1.requires_grad = True\n",
        "x2 = torch.Tensor([0.0]).double()                ; x2.requires_grad = True\n",
        "w1 = torch.Tensor([-3.0]).double()               ; w1.requires_grad = True\n",
        "w2 = torch.Tensor([1.0]).double()                ; w2.requires_grad = True\n",
        "b = torch.Tensor([6.8813735870195432]).double()  ; b.requires_grad = True\n",
        "n = x1*w1 + x2*w2 + b\n",
        "o = torch.tanh(n)                                ; o.retain_grad()      # not needed but added to show 1:1\n",
        "\n",
        "print(o.data.item())\n",
        "o.backward()\n",
        "\n",
        "print('---')\n",
        "print('x2', x2.grad.item())\n",
        "print('w2', w2.grad.item())\n",
        "print('x1', x1.grad.item())\n",
        "print('w1', w1.grad.item())\n",
        "\n",
        "# our outputs are the exact same as the engine"
      ]
    },
    {
      "cell_type": "code",
      "execution_count": null,
      "metadata": {
        "id": "pY9KZE6B4lAa",
        "outputId": "842d8a5a-151c-4102-c8a5-7a60021fa575"
      },
      "outputs": [
        {
          "data": {
            "text/plain": [
              "0.5000001283844369"
            ]
          },
          "execution_count": 35,
          "metadata": {},
          "output_type": "execute_result"
        }
      ],
      "source": [
        "x2.grad.item()"
      ]
    },
    {
      "cell_type": "code",
      "execution_count": null,
      "metadata": {
        "id": "tRWvnQzl4lAa"
      },
      "outputs": [],
      "source": [
        "import random as rd"
      ]
    },
    {
      "cell_type": "code",
      "execution_count": null,
      "metadata": {
        "id": "G35wNy4J4lAb"
      },
      "outputs": [],
      "source": [
        "\n",
        "class Neuron:\n",
        "\n",
        "  def __init__(self, nin):\n",
        "    self.w = [Value(rd.uniform(-1,1)) for _ in range(nin)]\n",
        "    self.b = Value(rd.uniform(-1,1))\n",
        "\n",
        "\n",
        "  def __call__(self,x):\n",
        "    # w * x + b\n",
        "\n",
        "    # summing weights and adding bias\n",
        "    # starting with self.b in the zip\n",
        "    tot = sum((wi*xi for wi, xi in zip(self.w, x)), self.b)\n",
        "    out = tot.tanh()\n",
        "\n",
        "    return out\n",
        "\n",
        "  def parameters(self):\n",
        "    return self.w + [self.b]\n",
        "\n",
        "class Layer:\n",
        "\n",
        "  def __init__(self, nin, nout):\n",
        "    self.neurons = [Neuron(nin) for _ in range(nout)]\n",
        "\n",
        "  def __call__(self,x):\n",
        "    outs = [n(x) for n in self.neurons]\n",
        "    return outs[0] if len(outs) == 1 else outs\n",
        "\n",
        "  def parameters(self):\n",
        "    out = []\n",
        "    for neuron in self.neurons:\n",
        "      out.extend(neuron.parameters())\n",
        "    return out\n",
        "\n",
        "class MLP:\n",
        "\n",
        "  def __init__(self, nin, nouts):\n",
        "    sz = [nin] + nouts\n",
        "    self.layers = [Layer(sz[i], sz[i+1]) for i in range(len(sz)-1)]\n",
        "\n",
        "  def __call__(self, x):\n",
        "    for layer in self.layers:\n",
        "      x = layer(x)\n",
        "    return x\n",
        "\n",
        "  def parameters(self):\n",
        "    out = []\n",
        "    for layer in self.layers:\n",
        "      out.extend(layer.parameters())\n",
        "    return out\n",
        ""
      ]
    },
    {
      "cell_type": "code",
      "execution_count": null,
      "metadata": {
        "id": "Bu3LkS7c4lAb",
        "outputId": "8aa7caaf-743c-4a70-8fb6-e6d05c9c6489"
      },
      "outputs": [
        {
          "data": {
            "text/plain": [
              "Value(data=-0.2231448787681776)"
            ]
          },
          "execution_count": 120,
          "metadata": {},
          "output_type": "execute_result"
        }
      ],
      "source": [
        "x = [2.0, 3.0, -1.0]\n",
        "n = MLP(3, [4, 4, 1])\n",
        "n(x)"
      ]
    },
    {
      "cell_type": "code",
      "execution_count": null,
      "metadata": {
        "id": "8ldqIGks4lAb",
        "outputId": "2fa8c2d2-46f3-4659-c59b-e4c3a1a05186"
      },
      "outputs": [
        {
          "data": {
            "text/plain": [
              "[Value(data=0.8237681884144799),\n",
              " Value(data=-0.7859058034246313),\n",
              " Value(data=-0.8858804874694068),\n",
              " Value(data=0.9980799124387734),\n",
              " Value(data=-0.27612092935822274),\n",
              " Value(data=0.6487580114927625),\n",
              " Value(data=0.8264867608220199),\n",
              " Value(data=-0.9201104156812157),\n",
              " Value(data=0.9472719076368039),\n",
              " Value(data=-0.1915906554180109),\n",
              " Value(data=-0.8274847648344197),\n",
              " Value(data=-0.3121887720945544),\n",
              " Value(data=-0.3249996181485262),\n",
              " Value(data=-0.8420936170602884),\n",
              " Value(data=-0.719692038078799),\n",
              " Value(data=-0.9914995207611164),\n",
              " Value(data=-0.7785996463350546),\n",
              " Value(data=0.3681141852467569),\n",
              " Value(data=0.43847936598421433),\n",
              " Value(data=0.2268595901761068),\n",
              " Value(data=-0.6664446615172153),\n",
              " Value(data=-0.9129945438783034),\n",
              " Value(data=-0.6756378943130057),\n",
              " Value(data=-0.4372130901182578),\n",
              " Value(data=0.5024096265340721),\n",
              " Value(data=-0.20092922952145087),\n",
              " Value(data=0.09999783207804391),\n",
              " Value(data=0.9769711933576319),\n",
              " Value(data=-0.822410936311825),\n",
              " Value(data=-0.5307776302019007),\n",
              " Value(data=0.7241238256224276),\n",
              " Value(data=0.3050749374673529),\n",
              " Value(data=-0.0321674840841748),\n",
              " Value(data=0.9495703264609079),\n",
              " Value(data=0.6711569764909329),\n",
              " Value(data=0.654360297110586),\n",
              " Value(data=-0.1857567189647651),\n",
              " Value(data=-0.15517339972077182),\n",
              " Value(data=0.036537392102494515),\n",
              " Value(data=0.1617550316531433),\n",
              " Value(data=-0.6684837168736075)]"
            ]
          },
          "execution_count": 121,
          "metadata": {},
          "output_type": "execute_result"
        }
      ],
      "source": [
        "n.parameters()"
      ]
    },
    {
      "cell_type": "code",
      "execution_count": null,
      "metadata": {
        "id": "_IWE_xtJ4lAe"
      },
      "outputs": [],
      "source": [
        "draw_dot(n(x))"
      ]
    },
    {
      "cell_type": "code",
      "execution_count": null,
      "metadata": {
        "id": "8DKiXWnS4lAe",
        "outputId": "900746f7-cef2-46f1-d616-fa517885d550"
      },
      "outputs": [
        {
          "data": {
            "text/plain": [
              "[Value(data=-0.2231448787681776),\n",
              " Value(data=-0.23343818996715215),\n",
              " Value(data=-0.49720460396217486),\n",
              " Value(data=-0.23533650081970986)]"
            ]
          },
          "execution_count": 122,
          "metadata": {},
          "output_type": "execute_result"
        }
      ],
      "source": [
        "xs = [\n",
        "  [2.0, 3.0, -1.0],\n",
        "  [3.0, -1.0, 0.5],\n",
        "  [0.5, 1.0, 1.0],\n",
        "  [1.0, 1.0, -1.0],\n",
        "]\n",
        "ys = [1.0, -1.0, -1.0, 1.0] # desired targets\n",
        "ypred = [n(x) for x in xs]\n",
        "ypred"
      ]
    },
    {
      "cell_type": "code",
      "execution_count": null,
      "metadata": {
        "id": "08DeaEjZ4lAe",
        "outputId": "3d125820-b772-479e-8591-97b7852044c1"
      },
      "outputs": [
        {
          "data": {
            "text/plain": [
              "Value(data=3.862559883591974)"
            ]
          },
          "execution_count": 123,
          "metadata": {},
          "output_type": "execute_result"
        }
      ],
      "source": [
        "losses = sum((yout - ygt)**2 for ygt, yout in zip(ys, ypred))\n",
        "losses"
      ]
    },
    {
      "cell_type": "code",
      "execution_count": null,
      "metadata": {
        "id": "J-WCvl7x4lAf"
      },
      "outputs": [],
      "source": [
        "losses.backward()"
      ]
    },
    {
      "cell_type": "code",
      "execution_count": null,
      "metadata": {
        "id": "WKOGAhWT4lAf"
      },
      "outputs": [],
      "source": [
        "draw_dot(losses) #  huge graph, forward passes with loss calculation"
      ]
    },
    {
      "cell_type": "code",
      "execution_count": null,
      "metadata": {
        "id": "nYJSnm1W4lAg",
        "outputId": "d5d393fd-d9c1-488e-f836-b20cdfdd852c"
      },
      "outputs": [
        {
          "data": {
            "text/plain": [
              "-0.0547444806676861"
            ]
          },
          "execution_count": 125,
          "metadata": {},
          "output_type": "execute_result"
        }
      ],
      "source": [
        "n.layers[0].neurons[0].w[0].grad"
      ]
    },
    {
      "cell_type": "code",
      "execution_count": null,
      "metadata": {
        "id": "oMWzC3ic4lAg",
        "outputId": "13106175-2994-46ae-ae13-3c1c30aa60a0"
      },
      "outputs": [
        {
          "data": {
            "text/plain": [
              "0.8237681884144799"
            ]
          },
          "execution_count": 126,
          "metadata": {},
          "output_type": "execute_result"
        }
      ],
      "source": [
        "n.layers[0].neurons[0].w[0].data"
      ]
    },
    {
      "cell_type": "code",
      "execution_count": null,
      "metadata": {
        "id": "aN4MqOQ-4lAg"
      },
      "outputs": [],
      "source": [
        "# gradient decent\n",
        "for p in n.parameters():\n",
        "    p.data += -0.01 * p.grad"
      ]
    },
    {
      "cell_type": "code",
      "execution_count": null,
      "metadata": {
        "id": "b0q3j8314lAh",
        "outputId": "fbb19c6e-ecb2-4615-aff0-3a933d0fad01"
      },
      "outputs": [
        {
          "data": {
            "text/plain": [
              "0.8243156332211568"
            ]
          },
          "execution_count": 128,
          "metadata": {},
          "output_type": "execute_result"
        }
      ],
      "source": [
        "n.layers[0].neurons[0].w[0].data\n"
      ]
    },
    {
      "cell_type": "code",
      "execution_count": null,
      "metadata": {
        "id": "Tp0--pAU4lAh",
        "outputId": "d18dbea1-cd22-4a0a-88aa-39a8ac2fe6bf"
      },
      "outputs": [
        {
          "data": {
            "text/plain": [
              "Value(data=4.804573900776477)"
            ]
          },
          "execution_count": 78,
          "metadata": {},
          "output_type": "execute_result"
        }
      ],
      "source": [
        "# loss funtion decreased\n",
        "ypred = [n(x) for x in xs]\n",
        "newLoss = sum((yout - ygt)**2 for ygt, yout in zip(ys, ypred))\n",
        "newLoss"
      ]
    },
    {
      "cell_type": "code",
      "execution_count": null,
      "metadata": {
        "id": "_LKzMKVZ4lAh",
        "outputId": "df1567cb-4a6d-4827-fcb5-afd05df9ce00"
      },
      "outputs": [
        {
          "name": "stdout",
          "output_type": "stream",
          "text": [
            "0 3.6054054884919715\n",
            "1 3.3432791213642035\n",
            "2 2.936856734534437\n",
            "3 2.8328851921986877\n",
            "4 2.7246088081307738\n",
            "5 2.6231363687116716\n",
            "6 2.4748791341700933\n",
            "7 2.2953649180865012\n",
            "8 2.0942883117818116\n",
            "9 1.8619297370577592\n",
            "10 1.5615549324439681\n",
            "11 1.3352249208565354\n",
            "12 1.1839873471163587\n",
            "13 1.1382812507820026\n",
            "14 0.3534158067976305\n",
            "15 0.2079049675906991\n",
            "16 0.1738269709196477\n",
            "17 0.14954850680182324\n",
            "18 0.13079286425591036\n",
            "19 0.11579296037505449\n"
          ]
        }
      ],
      "source": [
        "for k in range(20):\n",
        "\n",
        "  # forward pass\n",
        "  ypred = [n(x) for x in xs]\n",
        "  loss = sum((yout - ygt)**2 for ygt, yout in zip(ys, ypred))\n",
        "\n",
        "  # backward pass\n",
        "  for p in n.parameters():\n",
        "    p.grad = 0.0\n",
        "  loss.backward()\n",
        "\n",
        "  # update - stochastic gradient descent\n",
        "  for p in n.parameters():\n",
        "    p.data += -0.1 * p.grad\n",
        "\n",
        "  print(k, loss.data)"
      ]
    },
    {
      "cell_type": "code",
      "execution_count": null,
      "metadata": {
        "id": "dRft1FLw4lAi",
        "outputId": "185b1a19-5286-499e-c096-a80928453068"
      },
      "outputs": [
        {
          "data": {
            "text/plain": [
              "[Value(data=0.8712792056680122),\n",
              " Value(data=-0.8100890132250884),\n",
              " Value(data=-0.809623195992081),\n",
              " Value(data=0.8359438904535819)]"
            ]
          },
          "execution_count": 130,
          "metadata": {},
          "output_type": "execute_result"
        }
      ],
      "source": [
        "ypred"
      ]
    },
    {
      "cell_type": "code",
      "execution_count": null,
      "metadata": {
        "id": "zXDDoKnN4lAi",
        "outputId": "a70107a6-963f-4587-882b-c9cc105419a7"
      },
      "outputs": [
        {
          "name": "stdout",
          "output_type": "stream",
          "text": [
            "0 0.0008711857780491068\n",
            "1 0.0008707386218484307\n",
            "2 0.0008702919092753672\n",
            "3 0.0008698456396795472\n",
            "4 0.0008693998124118176\n",
            "5 0.0008689544268242791\n",
            "6 0.0008685094822703382\n",
            "7 0.0008680649781045949\n",
            "8 0.0008676209136829261\n",
            "9 0.0008671772883624532\n",
            "10 0.0008667341015015214\n",
            "11 0.0008662913524597565\n",
            "12 0.0008658490405979597\n",
            "13 0.0008654071652782209\n",
            "14 0.0008649657258638418\n",
            "15 0.0008645247217193401\n",
            "16 0.0008640841522104656\n",
            "17 0.0008636440167041935\n",
            "18 0.0008632043145687042\n",
            "19 0.0008627650451734302\n",
            "20 0.0008623262078889559\n",
            "21 0.0008618878020871489\n",
            "22 0.0008614498271410122\n",
            "23 0.0008610122824248049\n",
            "24 0.0008605751673139683\n",
            "25 0.000860138481185132\n",
            "26 0.0008597022234161478\n",
            "27 0.000859266393386019\n",
            "28 0.0008588309904749983\n",
            "29 0.0008583960140644721\n",
            "30 0.0008579614635370249\n",
            "31 0.0008575273382764338\n",
            "32 0.0008570936376676465\n",
            "33 0.0008566603610967889\n",
            "34 0.0008562275079511776\n",
            "35 0.0008557950776192536\n",
            "36 0.0008553630694906665\n",
            "37 0.0008549314829562193\n",
            "38 0.0008545003174078654\n",
            "39 0.0008540695722387363\n",
            "40 0.0008536392468430953\n",
            "41 0.0008532093406163988\n",
            "42 0.0008527798529552173\n",
            "43 0.0008523507832572645\n",
            "44 0.0008519221309214397\n",
            "45 0.0008514938953477594\n",
            "46 0.0008510660759373768\n",
            "47 0.0008506386720925968\n",
            "48 0.0008502116832168416\n",
            "49 0.0008497851087146696\n",
            "50 0.0008493589479917852\n",
            "51 0.0008489332004550072\n",
            "52 0.0008485078655122787\n",
            "53 0.0008480829425726609\n",
            "54 0.000847658431046348\n",
            "55 0.0008472343303446217\n",
            "56 0.000846810639879906\n",
            "57 0.0008463873590657295\n",
            "58 0.0008459644873167072\n",
            "59 0.0008455420240486089\n",
            "60 0.0008451199686782471\n",
            "61 0.0008446983206235715\n",
            "62 0.0008442770793036284\n",
            "63 0.0008438562441385511\n",
            "64 0.000843435814549553\n",
            "65 0.0008430157899589772\n",
            "66 0.0008425961697902105\n",
            "67 0.0008421769534677436\n",
            "68 0.0008417581404171568\n",
            "69 0.0008413397300651025\n",
            "70 0.0008409217218393123\n",
            "71 0.0008405041151685901\n",
            "72 0.0008400869094828166\n",
            "73 0.0008396701042129387\n",
            "74 0.000839253698790973\n",
            "75 0.000838837692650001\n",
            "76 0.0008384220852241681\n",
            "77 0.0008380068759486681\n",
            "78 0.0008375920642597683\n",
            "79 0.0008371776495947832\n",
            "80 0.0008367636313920894\n",
            "81 0.0008363500090910992\n",
            "82 0.0008359367821322774\n",
            "83 0.0008355239499571495\n",
            "84 0.0008351115120082474\n",
            "85 0.000834699467729188\n",
            "86 0.0008342878165645908\n",
            "87 0.0008338765579601251\n",
            "88 0.000833465691362518\n",
            "89 0.0008330552162194662\n",
            "90 0.0008326451319797656\n",
            "91 0.0008322354380931735\n",
            "92 0.0008318261340105224\n",
            "93 0.0008314172191836433\n",
            "94 0.0008310086930653855\n",
            "95 0.0008306005551096144\n",
            "96 0.0008301928047712211\n",
            "97 0.0008297854415060815\n",
            "98 0.0008293784647711345\n",
            "99 0.0008289718740242654\n"
          ]
        }
      ],
      "source": [
        "#  more passes\n",
        "for k in range(100):\n",
        "\n",
        "  # forward pass\n",
        "  ypred = [n(x) for x in xs]\n",
        "  loss = sum((yout - ygt)**2 for ygt, yout in zip(ys, ypred))\n",
        "\n",
        "  # backward pass, we need to reset to 0 since the gradients will stack if not\n",
        "  for p in n.parameters():\n",
        "    p.grad = 0.0\n",
        "  loss.backward()\n",
        "\n",
        "  # update\n",
        "  for p in n.parameters():\n",
        "    p.data += -0.03 * p.grad\n",
        "\n",
        "  print(k, loss.data)"
      ]
    },
    {
      "cell_type": "code",
      "execution_count": null,
      "metadata": {
        "id": "eDPFWvue4lAj",
        "outputId": "a9d00683-a499-4d12-9380-b74ba38785f3"
      },
      "outputs": [
        {
          "data": {
            "text/plain": [
              "[Value(data=0.9891583312294716),\n",
              " Value(data=-0.9850059553342193),\n",
              " Value(data=-0.9835869827715416),\n",
              " Value(data=0.9852615610625374)]"
            ]
          },
          "execution_count": 177,
          "metadata": {},
          "output_type": "execute_result"
        }
      ],
      "source": [
        "ypred"
      ]
    }
  ],
  "metadata": {
    "kernelspec": {
      "display_name": "Python 3",
      "language": "python",
      "name": "python3"
    },
    "language_info": {
      "codemirror_mode": {
        "name": "ipython",
        "version": 3
      },
      "file_extension": ".py",
      "mimetype": "text/x-python",
      "name": "python",
      "nbconvert_exporter": "python",
      "pygments_lexer": "ipython3",
      "version": "3.10.0"
    },
    "colab": {
      "provenance": []
    }
  },
  "nbformat": 4,
  "nbformat_minor": 0
}